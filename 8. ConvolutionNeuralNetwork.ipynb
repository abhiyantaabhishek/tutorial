{
 "cells": [
  {
   "cell_type": "markdown",
   "metadata": {},
   "source": []
  },
  {
   "cell_type": "markdown",
   "metadata": {},
   "source": [
    "# Fully Connected Network:\n",
    "![SegmentLocal](images/fully_connected.png)\n",
    "Till now we had seen only fully connected netwrok. <br>\n",
    "The Fully connected netork doesn't work well when we have Image data.The issue is the number of paramaters in the nework. To overcome this we use CNN. "
   ]
  },
  {
   "cell_type": "markdown",
   "metadata": {},
   "source": [
    "# This is how Convolution works:\n",
    "![SegmentLocal](images/1_nYf_cUIHFEWU1JXGwnz-Ig.gif \"segment\")"
   ]
  },
  {
   "cell_type": "markdown",
   "metadata": {},
   "source": [
    "# Here it shows Channel wise :\n",
    "![SegmentLocal](images/d77a32_b1ce73c8e98943c09834844ec9dd50e2_mv2.gif \"segment\")"
   ]
  },
  {
   "cell_type": "markdown",
   "metadata": {},
   "source": [
    "## The above illustration can be be shown as below also :\n",
    "![SegmentLocal](images/1_q95f1mqXAVsj_VMHaOm6Sw.gif \"segment\")"
   ]
  },
  {
   "cell_type": "code",
   "execution_count": null,
   "metadata": {},
   "outputs": [],
   "source": []
  }
 ],
 "metadata": {
  "kernelspec": {
   "display_name": "Python 3",
   "language": "python",
   "name": "python3"
  },
  "language_info": {
   "codemirror_mode": {
    "name": "ipython",
    "version": 3
   },
   "file_extension": ".py",
   "mimetype": "text/x-python",
   "name": "python",
   "nbconvert_exporter": "python",
   "pygments_lexer": "ipython3",
   "version": "3.7.6"
  }
 },
 "nbformat": 4,
 "nbformat_minor": 4
}
