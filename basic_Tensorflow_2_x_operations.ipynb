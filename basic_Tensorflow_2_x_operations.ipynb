{
  "nbformat": 4,
  "nbformat_minor": 0,
  "metadata": {
    "kernelspec": {
      "display_name": "Python 2",
      "language": "python",
      "name": "python2"
    },
    "language_info": {
      "codemirror_mode": {
        "name": "ipython",
        "version": 2
      },
      "file_extension": ".py",
      "mimetype": "text/x-python",
      "name": "python",
      "nbconvert_exporter": "python",
      "pygments_lexer": "ipython2",
      "version": "2.7.15"
    },
    "colab": {
      "name": "basic_operations.ipynb",
      "provenance": [],
      "include_colab_link": true
    }
  },
  "cells": [
    {
      "cell_type": "markdown",
      "metadata": {
        "id": "view-in-github",
        "colab_type": "text"
      },
      "source": [
        "<a href=\"https://colab.research.google.com/github/abhiyantaabhishek/tutorial/blob/master/basic_Tensorflow_2_x_operations.ipynb\" target=\"_parent\"><img src=\"https://colab.research.google.com/assets/colab-badge.svg\" alt=\"Open In Colab\"/></a>"
      ]
    },
    {
      "cell_type": "markdown",
      "metadata": {
        "id": "pGOVWu08YzZk",
        "colab_type": "text"
      },
      "source": [
        "#Basic of TensorFlow 2.x\n",
        "\n",
        "Tensorflow 2.x is very much simple as compared to TensorFlow 1.x, In this version we need to call to Session.run() and no need to pass feed dictionary.\n",
        "It works like a dynamic graph we can print the value of the tensor as well."
      ]
    },
    {
      "cell_type": "code",
      "metadata": {
        "id": "S4ldLm9YYzZm",
        "colab_type": "code",
        "colab": {}
      },
      "source": [
        "#from __future__ import print_function\n",
        "import tensorflow as tf"
      ],
      "execution_count": null,
      "outputs": []
    },
    {
      "cell_type": "code",
      "metadata": {
        "id": "S-HH2HrCYzZr",
        "colab_type": "code",
        "colab": {}
      },
      "source": [
        "# Define tensor constants.\n",
        "a = tf.constant(2)\n",
        "b = tf.constant(3)\n",
        "c = tf.constant(5)"
      ],
      "execution_count": null,
      "outputs": []
    },
    {
      "cell_type": "code",
      "metadata": {
        "id": "daCAic6eZnjD",
        "colab_type": "code",
        "colab": {
          "base_uri": "https://localhost:8080/",
          "height": 69
        },
        "outputId": "9c58c672-4925-4d45-b3cc-e1ba3c3e7107"
      },
      "source": [
        "print(a)\n",
        "print(b)\n",
        "print(c)"
      ],
      "execution_count": null,
      "outputs": [
        {
          "output_type": "stream",
          "text": [
            "tf.Tensor(2, shape=(), dtype=int32)\n",
            "tf.Tensor(3, shape=(), dtype=int32)\n",
            "tf.Tensor(5, shape=(), dtype=int32)\n"
          ],
          "name": "stdout"
        }
      ]
    },
    {
      "cell_type": "code",
      "metadata": {
        "id": "fk-M2R5TYzZu",
        "colab_type": "code",
        "colab": {
          "base_uri": "https://localhost:8080/",
          "height": 87
        },
        "outputId": "af650044-c4cb-44c4-eaed-0081e81e5afc"
      },
      "source": [
        "# Various tensor operations.\n",
        "add = tf.add(a, b)\n",
        "sub = tf.subtract(a, b)\n",
        "mul = tf.multiply(a, b)\n",
        "div = tf.divide(a, b)\n",
        "\n",
        "# Access tensors value.\n",
        "print(\"add =\", add.numpy())\n",
        "print(\"sub =\", sub.numpy())\n",
        "print(\"mul =\", mul.numpy())\n",
        "print(\"div =\", div.numpy())"
      ],
      "execution_count": null,
      "outputs": [
        {
          "output_type": "stream",
          "text": [
            "('add =', 5)\n",
            "('sub =', -1)\n",
            "('mul =', 6)\n",
            "('div =', 0.6666666666666666)\n"
          ],
          "name": "stdout"
        }
      ]
    },
    {
      "cell_type": "code",
      "metadata": {
        "id": "9grBsmWhZxc1",
        "colab_type": "code",
        "colab": {
          "base_uri": "https://localhost:8080/",
          "height": 87
        },
        "outputId": "a2596ba3-3661-45e8-aa63-5273006e21c4"
      },
      "source": [
        "# we can use operators also \n",
        "add = a+b\n",
        "sub = a-b\n",
        "mul = a*b\n",
        "div = tf.cast(a,tf.float32)/tf.cast(b,tf.float32) # here we need to type cast or we will get integer results\n",
        "# Access tensors value.\n",
        "print(\"add =\", add.numpy())\n",
        "print(\"sub =\", sub.numpy())\n",
        "print(\"mul =\", mul.numpy())\n",
        "print(\"div =\", div.numpy())"
      ],
      "execution_count": null,
      "outputs": [
        {
          "output_type": "stream",
          "text": [
            "('add =', 5)\n",
            "('sub =', -1)\n",
            "('mul =', 6)\n",
            "('div =', 0.6666667)\n"
          ],
          "name": "stdout"
        }
      ]
    },
    {
      "cell_type": "code",
      "metadata": {
        "id": "LVxLi8ZwYzZ4",
        "colab_type": "code",
        "colab": {
          "base_uri": "https://localhost:8080/",
          "height": 52
        },
        "outputId": "3219b9d7-15e0-4d6d-d5aa-a061a1c9558c"
      },
      "source": [
        "# Some more operations.\n",
        "mean = tf.reduce_mean([a, b, c])\n",
        "sum = tf.reduce_sum([a, b, c])\n",
        "\n",
        "# Access tensors value.\n",
        "print(\"mean =\", mean.numpy())\n",
        "print(\"sum =\", sum.numpy())"
      ],
      "execution_count": null,
      "outputs": [
        {
          "output_type": "stream",
          "text": [
            "('mean =', 3)\n",
            "('sum =', 10)\n"
          ],
          "name": "stdout"
        }
      ]
    },
    {
      "cell_type": "code",
      "metadata": {
        "id": "SLLqJh9hYzZ8",
        "colab_type": "code",
        "colab": {}
      },
      "source": [
        "# Matrix multiplications.\n",
        "matrix1 = tf.constant([[1., 2.], [3., 4.]])\n",
        "matrix2 = tf.constant([[5., 6.], [7., 8.]])\n",
        "\n",
        "product = tf.matmul(matrix1, matrix2)"
      ],
      "execution_count": null,
      "outputs": []
    },
    {
      "cell_type": "code",
      "metadata": {
        "id": "JTYok94hYzaA",
        "colab_type": "code",
        "colab": {
          "base_uri": "https://localhost:8080/",
          "height": 69
        },
        "outputId": "25f50445-048d-49af-be8d-82e9abc91d9c"
      },
      "source": [
        "# Display Tensor.\n",
        "product"
      ],
      "execution_count": null,
      "outputs": [
        {
          "output_type": "execute_result",
          "data": {
            "text/plain": [
              "<tf.Tensor: shape=(2, 2), dtype=float32, numpy=\n",
              "array([[19., 22.],\n",
              "       [43., 50.]], dtype=float32)>"
            ]
          },
          "metadata": {
            "tags": []
          },
          "execution_count": 16
        }
      ]
    },
    {
      "cell_type": "markdown",
      "metadata": {
        "id": "ocXvBNZLeHjm",
        "colab_type": "text"
      },
      "source": [
        "Variables are required for the paramaters of the network.\n",
        "Variables allows the values inside it to be changed. It the trainable attribute is set for a variable , it participates in gradient calculation. "
      ]
    },
    {
      "cell_type": "code",
      "metadata": {
        "id": "yiSLqe3Pdt5x",
        "colab_type": "code",
        "colab": {
          "base_uri": "https://localhost:8080/",
          "height": 35
        },
        "outputId": "80900469-cb70-455c-c076-26a4ca67643a"
      },
      "source": [
        "#variable \n",
        "v = tf.Variable(1.)\n",
        "v.numpy()"
      ],
      "execution_count": null,
      "outputs": [
        {
          "output_type": "execute_result",
          "data": {
            "text/plain": [
              "1.0"
            ]
          },
          "metadata": {
            "tags": []
          },
          "execution_count": 32
        }
      ]
    },
    {
      "cell_type": "code",
      "metadata": {
        "id": "9Qg7JDNMd0l9",
        "colab_type": "code",
        "colab": {
          "base_uri": "https://localhost:8080/",
          "height": 35
        },
        "outputId": "7784f955-00d9-4022-d322-9e0543fd5eb5"
      },
      "source": [
        "v.assign(5.)\n",
        "v.numpy()"
      ],
      "execution_count": null,
      "outputs": [
        {
          "output_type": "execute_result",
          "data": {
            "text/plain": [
              "5.0"
            ]
          },
          "metadata": {
            "tags": []
          },
          "execution_count": 33
        }
      ]
    },
    {
      "cell_type": "code",
      "metadata": {
        "id": "2rwUUyozeCq9",
        "colab_type": "code",
        "colab": {
          "base_uri": "https://localhost:8080/",
          "height": 35
        },
        "outputId": "fd703b78-beb3-4f6c-c3f0-03bf9ab82858"
      },
      "source": [
        "v.trainable"
      ],
      "execution_count": null,
      "outputs": [
        {
          "output_type": "execute_result",
          "data": {
            "text/plain": [
              "True"
            ]
          },
          "metadata": {
            "tags": []
          },
          "execution_count": 34
        }
      ]
    },
    {
      "cell_type": "markdown",
      "metadata": {
        "id": "9f7N-CEMhTSN",
        "colab_type": "text"
      },
      "source": [
        "#Calculating Gradient"
      ]
    },
    {
      "cell_type": "markdown",
      "metadata": {
        "id": "MGYS1aNQzuTe",
        "colab_type": "text"
      },
      "source": [
        "if $$ f(x) = x^2 $$ <br>\n",
        "then $$\\frac{\\partial f(x)}{\\partial x} = 2x$$\n",
        "\n",
        "Now if $ x=3$<br>\n",
        "Then $$\\frac{\\partial f(x)}{\\partial x} = 2x = 2*3 = 6$$\n",
        "\n",
        "The below code evaluates the same thing i.e. $$\\frac{\\partial f(x)}{\\partial x}\\Bigg|_{x=3}$$ \n",
        "\n",
        "\n"
      ]
    },
    {
      "cell_type": "code",
      "metadata": {
        "id": "tXlVGDXlhXup",
        "colab_type": "code",
        "colab": {
          "base_uri": "https://localhost:8080/",
          "height": 35
        },
        "outputId": "ce93f999-b6a9-417a-b8fc-2b04e1957b5f"
      },
      "source": [
        "x = tf.constant(3.0)\n",
        "with tf.GradientTape() as g:\n",
        "  g.watch(x)\n",
        "  y = x * x\n",
        "dy_dx = g.gradient(y, x) # Will compute to 6.0\n",
        "dy_dx.numpy()"
      ],
      "execution_count": null,
      "outputs": [
        {
          "output_type": "execute_result",
          "data": {
            "text/plain": [
              "6.0"
            ]
          },
          "metadata": {
            "tags": []
          },
          "execution_count": 38
        }
      ]
    },
    {
      "cell_type": "markdown",
      "metadata": {
        "id": "UTG2JRSx4FdV",
        "colab_type": "text"
      },
      "source": [
        "if $$ f(x) = x^2+2x+2 $$ <br>\n",
        "then $$\\frac{\\partial f(x)}{\\partial x} = 2x+2$$\n",
        "\n",
        "Now if $ x=1$<br>\n",
        "Then $$\\frac{\\partial f(x)}{\\partial x} = 2x+2 = 2*1+2 = 4$$\n",
        "\n",
        "The below code evaluates the same thing i.e. $$\\frac{\\partial f(x)}{\\partial x}\\Bigg|_{x=1}$$ "
      ]
    },
    {
      "cell_type": "code",
      "metadata": {
        "id": "cClq5rzqiE_D",
        "colab_type": "code",
        "colab": {
          "base_uri": "https://localhost:8080/",
          "height": 35
        },
        "outputId": "50e91a4c-399f-4263-dbb0-6e4370c3c070"
      },
      "source": [
        "x = tf.constant(1.0)\n",
        "with tf.GradientTape() as g:\n",
        "  g.watch(x)\n",
        "  y = x * x + 2*x + 2\n",
        "dy_dx = g.gradient(y, x) # Will compute to 4.0\n",
        "dy_dx.numpy()"
      ],
      "execution_count": null,
      "outputs": [
        {
          "output_type": "execute_result",
          "data": {
            "text/plain": [
              "4.0"
            ]
          },
          "metadata": {
            "tags": []
          },
          "execution_count": 43
        }
      ]
    },
    {
      "cell_type": "code",
      "metadata": {
        "id": "S-RTBsSViVAq",
        "colab_type": "code",
        "colab": {
          "base_uri": "https://localhost:8080/",
          "height": 35
        },
        "outputId": "711be15b-2e54-43c3-b1ce-338704157dd3"
      },
      "source": [
        "x = tf.Variable(1.)\n",
        "with tf.GradientTape() as g:\n",
        "  #g.watch(x)   # for variable no need to watch as trainable is true\n",
        "  y = x * x + 2*x + 2\n",
        "dy_dx = g.gradient(y, x) # Will compute to 4.0\n",
        "dy_dx.numpy()"
      ],
      "execution_count": null,
      "outputs": [
        {
          "output_type": "execute_result",
          "data": {
            "text/plain": [
              "4.0"
            ]
          },
          "metadata": {
            "tags": []
          },
          "execution_count": 44
        }
      ]
    },
    {
      "cell_type": "markdown",
      "metadata": {
        "id": "MM-fTIXz6sSt",
        "colab_type": "text"
      },
      "source": [
        "# sigmoid  function's gradient\n",
        "if $$ f(x) = \\frac{1}{1+e^{-x}} $$ <br>\n",
        "then $$\\frac{\\partial f(x)}{\\partial x} = \\frac{e^{-x}}{(1+e^{-x})^{2}}$$\n",
        "\n",
        "Now if $ x=1$<br>\n",
        "Then $$\\frac{\\partial f(x)}{\\partial x} = \\frac{e^{-1}}{(1+e^{-1})^{2}} = 0.1966$$\n",
        "\n",
        "The below code evaluates the same thing i.e. $$\\frac{\\partial f(x)}{\\partial x}\\Bigg|_{x=1}$$ "
      ]
    },
    {
      "cell_type": "code",
      "metadata": {
        "id": "6pDBkTq58d6E",
        "colab_type": "code",
        "colab": {
          "base_uri": "https://localhost:8080/",
          "height": 35
        },
        "outputId": "0fd3e186-51df-4fb0-932c-9e8e0b6b9c04"
      },
      "source": [
        "x = tf.Variable(1.)\n",
        "with tf.GradientTape() as g:\n",
        "  #g.watch(x)   # for variable no need to watch as trainable is true\n",
        "  y = 1/(1+tf.exp(-x) )\n",
        "dy_dx = g.gradient(y, x) # Will compute to 4.0\n",
        "dy_dx.numpy()"
      ],
      "execution_count": null,
      "outputs": [
        {
          "output_type": "execute_result",
          "data": {
            "text/plain": [
              "0.19661194"
            ]
          },
          "metadata": {
            "tags": []
          },
          "execution_count": 57
        }
      ]
    },
    {
      "cell_type": "markdown",
      "metadata": {
        "id": "W4V_swBz-Drb",
        "colab_type": "text"
      },
      "source": [
        "Below code varifies the same"
      ]
    },
    {
      "cell_type": "code",
      "metadata": {
        "id": "MAblgMcm8wsP",
        "colab_type": "code",
        "colab": {
          "base_uri": "https://localhost:8080/",
          "height": 35
        },
        "outputId": "f72f9a17-75a4-461d-bc52-c4e2cf735863"
      },
      "source": [
        "derivative = tf.exp(-x)/tf.pow((1+tf.exp(-x)),2)\n",
        "derivative.numpy()"
      ],
      "execution_count": null,
      "outputs": [
        {
          "output_type": "execute_result",
          "data": {
            "text/plain": [
              "0.19661196"
            ]
          },
          "metadata": {
            "tags": []
          },
          "execution_count": 63
        }
      ]
    }
  ]
}