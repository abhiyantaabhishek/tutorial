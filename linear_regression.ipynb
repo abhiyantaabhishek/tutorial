{
  "nbformat": 4,
  "nbformat_minor": 0,
  "metadata": {
    "kernelspec": {
      "display_name": "Python 2",
      "language": "python",
      "name": "python2"
    },
    "language_info": {
      "codemirror_mode": {
        "name": "ipython",
        "version": 2
      },
      "file_extension": ".py",
      "mimetype": "text/x-python",
      "name": "python",
      "nbconvert_exporter": "python",
      "pygments_lexer": "ipython2",
      "version": "2.7.15"
    },
    "colab": {
      "name": "linear_regression.ipynb",
      "provenance": [],
      "include_colab_link": true
    }
  },
  "cells": [
    {
      "cell_type": "markdown",
      "metadata": {
        "id": "view-in-github",
        "colab_type": "text"
      },
      "source": [
        "<a href=\"https://colab.research.google.com/github/abhiyantaabhishek/tutorial/blob/master/linear_regression.ipynb\" target=\"_parent\"><img src=\"https://colab.research.google.com/assets/colab-badge.svg\" alt=\"Open In Colab\"/></a>"
      ]
    },
    {
      "cell_type": "markdown",
      "metadata": {
        "id": "YXOtTvi_zalA",
        "colab_type": "text"
      },
      "source": [
        "# Linear Regression Example\n",
        "\n",
        "Simplest linear regression for understanding th e concept\n",
        "\n",
        "- Author: Abhishek Kumar dubey\n",
        "- Project: https://github.com/abhiyantaabhishek/tutorial"
      ]
    },
    {
      "cell_type": "code",
      "metadata": {
        "id": "XkyaiY2DzalB",
        "colab_type": "code",
        "colab": {}
      },
      "source": [
        "from __future__ import absolute_import, division, print_function"
      ],
      "execution_count": 1,
      "outputs": []
    },
    {
      "cell_type": "code",
      "metadata": {
        "id": "n0NPI4WczalF",
        "colab_type": "code",
        "colab": {}
      },
      "source": [
        "import tensorflow as tf\n",
        "import numpy as np\n",
        "rng = np.random"
      ],
      "execution_count": 2,
      "outputs": []
    },
    {
      "cell_type": "code",
      "metadata": {
        "id": "YAoPOx3lzalJ",
        "colab_type": "code",
        "colab": {}
      },
      "source": [
        "learning_rate = 0.01\n",
        "training_steps = 1000\n",
        "display_step = 50"
      ],
      "execution_count": 3,
      "outputs": []
    },
    {
      "cell_type": "code",
      "metadata": {
        "id": "FSizfOtj1ycP",
        "colab_type": "code",
        "colab": {}
      },
      "source": [
        "X = [i for i in range(1,20)]\n",
        "Y=[i for i in range(1,20)]\n"
      ],
      "execution_count": 39,
      "outputs": []
    },
    {
      "cell_type": "code",
      "metadata": {
        "id": "VL2d06VA305s",
        "colab_type": "code",
        "colab": {
          "base_uri": "https://localhost:8080/",
          "height": 269
        },
        "outputId": "728c9103-4337-45e8-d51f-222112c9611e"
      },
      "source": [
        "\n",
        "plt.plot(X, Y, 'ro', label='Original data')\n",
        "plt.legend()\n",
        "plt.show()"
      ],
      "execution_count": 40,
      "outputs": [
        {
          "output_type": "display_data",
          "data": {
            "image/png": "[encoded data removed]",
            "text/plain": [
              "<Figure size 432x288 with 1 Axes>"
            ]
          },
          "metadata": {
            "tags": [],
            "needs_background": "light"
          }
        }
      ]
    },
    {
      "cell_type": "code",
      "metadata": {
        "id": "b2Y1mCygzalS",
        "colab_type": "code",
        "colab": {}
      },
      "source": [
        "W = tf.Variable(rng.randn(), name=\"weight\")\n",
        "b = tf.Variable(rng.randn(), name=\"bias\")\n",
        "\n",
        "def linear_regression(x):\n",
        "    return W * x + b\n",
        "\n",
        "def mean_square(y_pred, y_true):\n",
        "    return tf.reduce_mean(tf.square(y_pred - y_true))\n",
        "\n",
        "optimizer = tf.optimizers.Adam(learning_rate)"
      ],
      "execution_count": 25,
      "outputs": []
    },
    {
      "cell_type": "code",
      "metadata": {
        "id": "-jSJNiFwzalU",
        "colab_type": "code",
        "colab": {}
      },
      "source": [
        "\n",
        "def run_optimization():\n",
        "    with tf.GradientTape() as g:\n",
        "        pred = linear_regression(X)\n",
        "        loss = mean_square(pred, Y)\n",
        "    gradients = g.gradient(loss, [W, b])\n",
        "\n",
        "    optimizer.apply_gradients(zip(gradients, [W, b]))"
      ],
      "execution_count": 26,
      "outputs": []
    },
    {
      "cell_type": "code",
      "metadata": {
        "id": "G0j4d3rOzalW",
        "colab_type": "code",
        "colab": {
          "base_uri": "https://localhost:8080/",
          "height": 364
        },
        "outputId": "c0a076fb-12e6-4cb0-de1e-f2790c3bd1dc"
      },
      "source": [
        "\n",
        "for step in range(1, training_steps + 1):\n",
        "    run_optimization()\n",
        "    \n",
        "    if step % display_step == 0:\n",
        "        pred = linear_regression(X)\n",
        "        loss = mean_square(pred, Y)\n",
        "        print(\"step: %i, loss: %f, W: %f, b: %f\" % (step, loss, W.numpy(), b.numpy()))"
      ],
      "execution_count": 27,
      "outputs": [
        {
          "output_type": "stream",
          "text": [
            "step: 50, loss: 0.869169, W: 1.027707, b: -1.196928\n",
            "step: 100, loss: 0.279538, W: 1.090552, b: -1.088683\n",
            "step: 150, loss: 0.247292, W: 1.080799, b: -1.034789\n",
            "step: 200, loss: 0.216677, W: 1.075983, b: -0.968335\n",
            "step: 250, loss: 0.186186, W: 1.070405, b: -0.897649\n",
            "step: 300, loss: 0.157111, W: 1.064673, b: -0.824588\n",
            "step: 350, loss: 0.130318, W: 1.058899, b: -0.750995\n",
            "step: 400, loss: 0.106323, W: 1.053199, b: -0.678340\n",
            "step: 450, loss: 0.085362, W: 1.047667, b: -0.607809\n",
            "step: 500, loss: 0.067461, W: 1.042374, b: -0.540333\n",
            "step: 550, loss: 0.052489, W: 1.037377, b: -0.476621\n",
            "step: 600, loss: 0.040214, W: 1.032715, b: -0.417182\n",
            "step: 650, loss: 0.030338, W: 1.028415, b: -0.362352\n",
            "step: 700, loss: 0.022537, W: 1.024491, b: -0.312308\n",
            "step: 750, loss: 0.016484, W: 1.020945, b: -0.267101\n",
            "step: 800, loss: 0.011871, W: 1.017774, b: -0.226665\n",
            "step: 850, loss: 0.008416, W: 1.014966, b: -0.190847\n",
            "step: 900, loss: 0.005872, W: 1.012501, b: -0.159420\n",
            "step: 950, loss: 0.004032, W: 1.010359, b: -0.132106\n",
            "step: 1000, loss: 0.002724, W: 1.008515, b: -0.108586\n"
          ],
          "name": "stdout"
        }
      ]
    },
    {
      "cell_type": "code",
      "metadata": {
        "id": "VVAwQE54zale",
        "colab_type": "code",
        "colab": {}
      },
      "source": [
        "import matplotlib.pyplot as plt"
      ],
      "execution_count": 28,
      "outputs": []
    },
    {
      "cell_type": "code",
      "metadata": {
        "id": "be8T0cFjzalg",
        "colab_type": "code",
        "colab": {
          "base_uri": "https://localhost:8080/",
          "height": 270
        },
        "outputId": "134f2881-da0a-40cc-b318-72ddaa1a9bc8"
      },
      "source": [
        "# Graphic display\n",
        "plt.plot(X, Y, 'ro', label='Original data')\n",
        "plt.plot(X, np.array(W * X + b), label='Fitted line')\n",
        "plt.legend()\n",
        "plt.show()"
      ],
      "execution_count": 29,
      "outputs": [
        {
          "output_type": "display_data",
          "data": {
            "image/png": "[encoded data removed]",
            "text/plain": [
              "<Figure size 432x288 with 1 Axes>"
            ]
          },
          "metadata": {
            "tags": [],
            "needs_background": "light"
          }
        }
      ]
    },
    {
      "cell_type": "markdown",
      "metadata": {
        "id": "TLnOgAId3XPF",
        "colab_type": "text"
      },
      "source": [
        "Try adding noise"
      ]
    },
    {
      "cell_type": "code",
      "metadata": {
        "id": "ZTrzU7zO3Z9T",
        "colab_type": "code",
        "colab": {}
      },
      "source": [
        "X = [i+rng.randn() for i in range(1,20)]\n",
        "Y=[i for i in range(1,20)]\n"
      ],
      "execution_count": 59,
      "outputs": []
    },
    {
      "cell_type": "code",
      "metadata": {
        "id": "WnLC0wK53pBr",
        "colab_type": "code",
        "colab": {
          "base_uri": "https://localhost:8080/",
          "height": 269
        },
        "outputId": "11015c3d-9b80-48dc-d8b3-f7c8485a29db"
      },
      "source": [
        "# Graphic display\n",
        "plt.plot(X, Y, 'ro', label='Original data')\n",
        "plt.legend()\n",
        "plt.show()"
      ],
      "execution_count": 60,
      "outputs": [
        {
          "output_type": "display_data",
          "data": {
            "image/png": "[encoded data removed]",
            "text/plain": [
              "<Figure size 432x288 with 1 Axes>"
            ]
          },
          "metadata": {
            "tags": [],
            "needs_background": "light"
          }
        }
      ]
    },
    {
      "cell_type": "code",
      "metadata": {
        "id": "MbSjvuJf4Ow3",
        "colab_type": "code",
        "colab": {}
      },
      "source": [
        "# Randomise the weight and bais\n",
        "W = tf.Variable(rng.randn(), name=\"weight\")\n",
        "b = tf.Variable(rng.randn(), name=\"bias\")"
      ],
      "execution_count": 61,
      "outputs": []
    },
    {
      "cell_type": "code",
      "metadata": {
        "id": "uYH-orxD4f42",
        "colab_type": "code",
        "colab": {
          "base_uri": "https://localhost:8080/",
          "height": 364
        },
        "outputId": "bdef47e9-36b3-4706-864e-0401469899a8"
      },
      "source": [
        "for step in range(1, training_steps + 1):\n",
        "    run_optimization()\n",
        "    \n",
        "    if step % display_step == 0:\n",
        "        pred = linear_regression(X)\n",
        "        loss = mean_square(pred, Y)\n",
        "        print(\"step: %i, loss: %f, W: %f, b: %f\" % (step, loss, W.numpy(), b.numpy()))"
      ],
      "execution_count": 62,
      "outputs": [
        {
          "output_type": "stream",
          "text": [
            "step: 50, loss: 1.247277, W: 0.857503, b: 1.294228\n",
            "step: 100, loss: 0.665591, W: 0.935656, b: 1.340943\n",
            "step: 150, loss: 0.638190, W: 0.926190, b: 1.299074\n",
            "step: 200, loss: 0.629643, W: 0.929038, b: 1.270151\n",
            "step: 250, loss: 0.621706, W: 0.931372, b: 1.241238\n",
            "step: 300, loss: 0.614337, W: 0.933641, b: 1.212862\n",
            "step: 350, loss: 0.607526, W: 0.935865, b: 1.185111\n",
            "step: 400, loss: 0.601261, W: 0.938034, b: 1.158036\n",
            "step: 450, loss: 0.595522, W: 0.940144, b: 1.131688\n",
            "step: 500, loss: 0.590292, W: 0.942193, b: 1.106115\n",
            "step: 550, loss: 0.585546, W: 0.944176, b: 1.081356\n",
            "step: 600, loss: 0.581259, W: 0.946092, b: 1.057446\n",
            "step: 650, loss: 0.577407, W: 0.947937, b: 1.034418\n",
            "step: 700, loss: 0.573960, W: 0.949709, b: 1.012293\n",
            "step: 750, loss: 0.570892, W: 0.951407, b: 0.991092\n",
            "step: 800, loss: 0.568174, W: 0.953030, b: 0.970831\n",
            "step: 850, loss: 0.565779, W: 0.954578, b: 0.951518\n",
            "step: 900, loss: 0.563679, W: 0.956048, b: 0.933158\n",
            "step: 950, loss: 0.561845, W: 0.957442, b: 0.915751\n",
            "step: 1000, loss: 0.560255, W: 0.958761, b: 0.899294\n"
          ],
          "name": "stdout"
        }
      ]
    },
    {
      "cell_type": "code",
      "metadata": {
        "id": "ONtctXLk4mk2",
        "colab_type": "code",
        "colab": {
          "base_uri": "https://localhost:8080/",
          "height": 269
        },
        "outputId": "8c462fe2-1b33-4220-a580-fd818c043c41"
      },
      "source": [
        "\n",
        "plt.plot(X, Y, 'ro', label='Original data')\n",
        "plt.plot(X, np.array(W * X + b), label='Fitted line')\n",
        "plt.legend()\n",
        "plt.show()"
      ],
      "execution_count": 63,
      "outputs": [
        {
          "output_type": "display_data",
          "data": {
            "image/png": "[encoded data removed]",
            "text/plain": [
              "<Figure size 432x288 with 1 Axes>"
            ]
          },
          "metadata": {
            "tags": [],
            "needs_background": "light"
          }
        }
      ]
    }
  ]
}