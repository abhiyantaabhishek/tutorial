{
  "nbformat": 4,
  "nbformat_minor": 0,
  "metadata": {
    "kernelspec": {
      "display_name": "Python 2",
      "language": "python",
      "name": "python2"
    },
    "language_info": {
      "codemirror_mode": {
        "name": "ipython",
        "version": 2
      },
      "file_extension": ".py",
      "mimetype": "text/x-python",
      "name": "python",
      "nbconvert_exporter": "python",
      "pygments_lexer": "ipython2",
      "version": "2.7.15"
    },
    "colab": {
      "name": "5. logistic_regression.ipynb",
      "provenance": [],
      "include_colab_link": true
    }
  },
  "cells": [
    {
      "cell_type": "markdown",
      "metadata": {
        "id": "view-in-github",
        "colab_type": "text"
      },
      "source": [
        "<a href=\"https://colab.research.google.com/github/abhiyantaabhishek/tutorial/blob/master/5.%20logistic_regression.ipynb\" target=\"_parent\"><img src=\"https://colab.research.google.com/assets/colab-badge.svg\" alt=\"Open In Colab\"/></a>"
      ]
    },
    {
      "cell_type": "markdown",
      "metadata": {
        "id": "YXOtTvi_zalA",
        "colab_type": "text"
      },
      "source": [
        "# Simplest Logistic Regression Example\n",
        "\n",
        "Simplest Logistic regression example for understanding the concept \n"
      ]
    },
    {
      "cell_type": "markdown",
      "metadata": {
        "id": "QBd__oQO5uPW",
        "colab_type": "text"
      },
      "source": [
        "Import the library"
      ]
    },
    {
      "cell_type": "code",
      "metadata": {
        "id": "n0NPI4WczalF",
        "colab_type": "code",
        "colab": {}
      },
      "source": [
        "import tensorflow as tf\n",
        "import numpy as np\n",
        "import matplotlib.pyplot as plt\n",
        "rng = np.random"
      ],
      "execution_count": 394,
      "outputs": []
    },
    {
      "cell_type": "markdown",
      "metadata": {
        "id": "pBGtyviC5yf2",
        "colab_type": "text"
      },
      "source": [
        "Initilise the paramaters"
      ]
    },
    {
      "cell_type": "code",
      "metadata": {
        "id": "YAoPOx3lzalJ",
        "colab_type": "code",
        "colab": {}
      },
      "source": [
        "\n",
        "\n",
        "num_classes = 3\n",
        "num_row= num_col = 28\n",
        "num_features = num_row * num_col\n",
        "\n",
        "# Training parameters.\n",
        "learning_rate = 0.01\n",
        "training_steps = 1000\n",
        "batch_size = 256\n",
        "display_step = 50"
      ],
      "execution_count": 395,
      "outputs": []
    },
    {
      "cell_type": "markdown",
      "metadata": {
        "id": "nap65FI_56lO",
        "colab_type": "text"
      },
      "source": [
        "Generate trainning data, Here X and Y"
      ]
    },
    {
      "cell_type": "code",
      "metadata": {
        "id": "ljP96G4xda3L",
        "colab_type": "code",
        "colab": {}
      },
      "source": [
        "x_train = []\n",
        "y_train = []\n",
        "x_test = []\n",
        "y_test = []\n",
        "for _ in range(500):\n",
        "  x_train.append(rng.randint(low = 10,high=21, size=(num_row , num_col)))\n",
        "  y_train.append(0)\n",
        "  x_train.append(rng.randint(low = 30,high=41, size=(num_row , num_col)))\n",
        "  y_train.append(1)\n",
        "  x_train.append(rng.randint(low = 50,high=61, size=(num_row , num_col)))\n",
        "  y_train.append(2)\n",
        "x_train = np.array(x_train,dtype=np.float32)\n",
        "y_train = np.array(y_train,dtype=np.uint8)\n",
        "\n",
        "for _ in range(100):\n",
        "  x_test.append(rng.randint(low = 10,high=21, size=(num_row , num_col)))\n",
        "  y_test.append(0)\n",
        "  x_test.append(rng.randint(low = 30,high=41, size=(num_row , num_col)))\n",
        "  y_test.append(1)\n",
        "  x_test.append(rng.randint(low = 50,high=61, size=(num_row , num_col)))\n",
        "  y_test.append(2)\n",
        "x_test = np.array(x_test,dtype=np.float32)\n",
        "y_test = np.array(y_test,dtype=np.uint8)\n"
      ],
      "execution_count": 396,
      "outputs": []
    },
    {
      "cell_type": "code",
      "metadata": {
        "id": "mxjhSWx0hLCV",
        "colab_type": "code",
        "colab": {}
      },
      "source": [
        "x_train, x_test = x_train.reshape([-1, num_features]), x_test.reshape([-1, num_features])"
      ],
      "execution_count": 397,
      "outputs": []
    },
    {
      "cell_type": "code",
      "metadata": {
        "id": "5IYDd0htKIqt",
        "colab_type": "code",
        "colab": {}
      },
      "source": [
        "x_train, x_test = (x_train-x_train.mean()) / x_train.std(), (x_test-x_test.mean()) / x_test.std()"
      ],
      "execution_count": 398,
      "outputs": []
    },
    {
      "cell_type": "code",
      "metadata": {
        "id": "CmwRjEEchXAC",
        "colab_type": "code",
        "colab": {}
      },
      "source": [
        "train_data = tf.data.Dataset.from_tensor_slices((x_train, y_train))\n",
        "train_data = train_data.repeat().shuffle(5000).batch(batch_size).prefetch(1)"
      ],
      "execution_count": 399,
      "outputs": []
    },
    {
      "cell_type": "code",
      "metadata": {
        "id": "nA9eAjkzh9RO",
        "colab_type": "code",
        "colab": {
          "base_uri": "https://localhost:8080/",
          "height": 269
        },
        "outputId": "bd46374d-ecee-4111-9ef5-bb46295e4c2d"
      },
      "source": [
        "for i in range(0,50):\n",
        "  if(y_train[i] == 0):\n",
        "    plt.plot(x_train[i],'ro', label='Original data')\n",
        "  if(y_train[i] == 1):\n",
        "    plt.plot(x_train[i],'bo', label='Original data')    \n",
        "  if(y_train[i] == 2):\n",
        "    plt.plot(x_train[i],'go', label='Original data')    "
      ],
      "execution_count": 400,
      "outputs": [
        {
          "output_type": "display_data",
          "data": {
            "image/png": "[encoded data removed]",
            "text/plain": [
              "<Figure size 432x288 with 1 Axes>"
            ]
          },
          "metadata": {
            "tags": [],
            "needs_background": "light"
          }
        }
      ]
    },
    {
      "cell_type": "code",
      "metadata": {
        "id": "b2Y1mCygzalS",
        "colab_type": "code",
        "colab": {}
      },
      "source": [
        "\n",
        "def logistic_regression(x):\n",
        "    return tf.nn.softmax(tf.matmul(x, W) + b)\n",
        "\n",
        "def cross_entropy(y_pred, y_true):\n",
        "    y_true = tf.one_hot(y_true, depth=num_classes)\n",
        "    # Clip prediction values to avoid log(0) error.\n",
        "    y_pred = tf.clip_by_value(y_pred, 1e-9, 1.)\n",
        "    return tf.reduce_mean(-tf.reduce_sum(y_true * tf.math.log(y_pred),1))\n",
        "\n",
        "def accuracy(y_pred, y_true):\n",
        "    correct_prediction = tf.equal(tf.argmax(y_pred, 1), tf.cast(y_true, tf.int64))\n",
        "    return tf.reduce_mean(tf.cast(correct_prediction, tf.float32))\n",
        "\n",
        "optimizer = tf.optimizers.Adam(learning_rate)"
      ],
      "execution_count": 401,
      "outputs": []
    },
    {
      "cell_type": "code",
      "metadata": {
        "id": "-jSJNiFwzalU",
        "colab_type": "code",
        "colab": {}
      },
      "source": [
        "\n",
        "def run_optimization(x, y):\n",
        "    with tf.GradientTape() as g:\n",
        "        pred = logistic_regression(x)\n",
        "        loss = cross_entropy(pred, y)\n",
        "    gradients = g.gradient(loss, [W, b])\n",
        "\n",
        "    optimizer.apply_gradients(zip(gradients, [W, b]))"
      ],
      "execution_count": 402,
      "outputs": []
    },
    {
      "cell_type": "markdown",
      "metadata": {
        "id": "BO4Xo1TlPIxt",
        "colab_type": "text"
      },
      "source": [
        "Initiallise weight with uniform distribution"
      ]
    },
    {
      "cell_type": "code",
      "metadata": {
        "id": "yDuOPMyGNdTj",
        "colab_type": "code",
        "colab": {}
      },
      "source": [
        "mu, sigma = 0, 0.1\n",
        "W = tf.Variable(rng.normal(mu, sigma, (num_features,num_classes)), name=\"weight\",dtype =tf.float32 )\n",
        "b = tf.Variable(rng.normal(mu, sigma, num_classes), name=\"bias\",dtype =tf.float32 )"
      ],
      "execution_count": 403,
      "outputs": []
    },
    {
      "cell_type": "markdown",
      "metadata": {
        "id": "aOPqI82JPNkw",
        "colab_type": "text"
      },
      "source": [
        "Do not run below cell, its just for reference"
      ]
    },
    {
      "cell_type": "code",
      "metadata": {
        "id": "Mzl5weyu6n9I",
        "colab_type": "code",
        "colab": {}
      },
      "source": [
        "# Do not run this cell, its just for reference \n",
        "#W = tf.Variable(rng.randn(num_features,num_classes), name=\"weight\",dtype =tf.float32 )\n",
        "#b = tf.Variable(rng.randn(num_classes), name=\"bias\",dtype =tf.float32 )"
      ],
      "execution_count": 404,
      "outputs": []
    },
    {
      "cell_type": "code",
      "metadata": {
        "id": "G0j4d3rOzalW",
        "colab_type": "code",
        "colab": {
          "base_uri": "https://localhost:8080/",
          "height": 364
        },
        "outputId": "ca8c20f4-9810-4d42-879e-5f53a6c4d099"
      },
      "source": [
        "\n",
        "for step, (batch_x, batch_y) in enumerate(train_data.take(training_steps), 1):\n",
        "    run_optimization(batch_x, batch_y)\n",
        "    \n",
        "    if step % display_step == 0:\n",
        "        pred = logistic_regression(batch_x)\n",
        "        loss = cross_entropy(pred, batch_y)\n",
        "        acc = accuracy(pred, batch_y)\n",
        "        print(\"step: %i, loss: %f, accuracy: %f\" % (step, loss, acc))"
      ],
      "execution_count": 405,
      "outputs": [
        {
          "output_type": "stream",
          "text": [
            "step: 50, loss: 0.085535, accuracy: 0.996094\n",
            "step: 100, loss: 0.040109, accuracy: 1.000000\n",
            "step: 150, loss: 0.025988, accuracy: 1.000000\n",
            "step: 200, loss: 0.016125, accuracy: 1.000000\n",
            "step: 250, loss: 0.014689, accuracy: 1.000000\n",
            "step: 300, loss: 0.010176, accuracy: 1.000000\n",
            "step: 350, loss: 0.007561, accuracy: 1.000000\n",
            "step: 400, loss: 0.006660, accuracy: 1.000000\n",
            "step: 450, loss: 0.004971, accuracy: 1.000000\n",
            "step: 500, loss: 0.004583, accuracy: 1.000000\n",
            "step: 550, loss: 0.004049, accuracy: 1.000000\n",
            "step: 600, loss: 0.003311, accuracy: 1.000000\n",
            "step: 650, loss: 0.002764, accuracy: 1.000000\n",
            "step: 700, loss: 0.002600, accuracy: 1.000000\n",
            "step: 750, loss: 0.002456, accuracy: 1.000000\n",
            "step: 800, loss: 0.001770, accuracy: 1.000000\n",
            "step: 850, loss: 0.001972, accuracy: 1.000000\n",
            "step: 900, loss: 0.001640, accuracy: 1.000000\n",
            "step: 950, loss: 0.001909, accuracy: 1.000000\n",
            "step: 1000, loss: 0.001115, accuracy: 1.000000\n"
          ],
          "name": "stdout"
        }
      ]
    },
    {
      "cell_type": "code",
      "metadata": {
        "id": "rPZs9WyX8eO3",
        "colab_type": "code",
        "colab": {}
      },
      "source": [
        "predict = logistic_regression(x_test)\n"
      ],
      "execution_count": 406,
      "outputs": []
    },
    {
      "cell_type": "code",
      "metadata": {
        "id": "8yhRtx_EAyw0",
        "colab_type": "code",
        "colab": {
          "base_uri": "https://localhost:8080/",
          "height": 269
        },
        "outputId": "cdad551b-7654-4428-c98f-dd6c185df7f0"
      },
      "source": [
        "for i in range(0,50):\n",
        "\n",
        "  #print(np.argmax(predict.numpy()[i]),y_train[i])\n",
        "\n",
        "  if (np.argmax(predict.numpy()[i]) == 0):\n",
        "    plt.plot(x_test[i],'ro', label='Original data')\n",
        "  elif (np.argmax(predict.numpy()[i]) == 1):\n",
        "    plt.plot(x_test[i],'bo', label='Original data')    \n",
        "  elif (np.argmax(predict.numpy()[i]) == 2):\n",
        "    plt.plot(x_test[i],'go', label='Original data')  \n",
        "  else:\n",
        "    plt.plot(x_test[i],'mo', label='Original data')  \n",
        "\n",
        "\n"
      ],
      "execution_count": 407,
      "outputs": [
        {
          "output_type": "display_data",
          "data": {
            "image/png": "[encoded data removed]",
            "text/plain": [
              "<Figure size 432x288 with 1 Axes>"
            ]
          },
          "metadata": {
            "tags": [],
            "needs_background": "light"
          }
        }
      ]
    }
  ]
}