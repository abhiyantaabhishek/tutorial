{
  "nbformat": 4,
  "nbformat_minor": 0,
  "metadata": {
    "kernelspec": {
      "display_name": "Python 2",
      "language": "python",
      "name": "python2"
    },
    "language_info": {
      "codemirror_mode": {
        "name": "ipython",
        "version": 2
      },
      "file_extension": ".py",
      "mimetype": "text/x-python",
      "name": "python",
      "nbconvert_exporter": "python",
      "pygments_lexer": "ipython2",
      "version": "2.7.15"
    },
    "colab": {
      "name": "linear_regression.ipynb",
      "provenance": [],
      "include_colab_link": true
    }
  },
  "cells": [
    {
      "cell_type": "markdown",
      "metadata": {
        "id": "view-in-github",
        "colab_type": "text"
      },
      "source": [
        "<a href=\"https://colab.research.google.com/github/abhiyantaabhishek/tutorial/blob/master/Quadratic_and_Polynomial_regression.ipynb\" target=\"_parent\"><img src=\"https://colab.research.google.com/assets/colab-badge.svg\" alt=\"Open In Colab\"/></a>"
      ]
    },
    {
      "cell_type": "markdown",
      "metadata": {
        "id": "-RiGwQ-u_C1-",
        "colab_type": "text"
      },
      "source": [
        "#Visit [here](https://abhiyantaabhishek.github.io/Simplest_Regression.html) for more detailed explaination."
      ]
    },
    {
      "cell_type": "markdown",
      "metadata": {
        "id": "YXOtTvi_zalA",
        "colab_type": "text"
      },
      "source": [
        "# Simplest Quadratic and Polynomial Regression Example\n",
        "\n",
        "Simplest Quadratic and Polynomial regression example for understanding the concept \n"
      ]
    },
    {
      "cell_type": "code",
      "metadata": {
        "id": "XkyaiY2DzalB",
        "colab_type": "code",
        "colab": {}
      },
      "source": [
        "from __future__ import absolute_import, division, print_function"
      ],
      "execution_count": 42,
      "outputs": []
    },
    {
      "cell_type": "markdown",
      "metadata": {
        "id": "QBd__oQO5uPW",
        "colab_type": "text"
      },
      "source": [
        "Import the library"
      ]
    },
    {
      "cell_type": "code",
      "metadata": {
        "id": "n0NPI4WczalF",
        "colab_type": "code",
        "colab": {}
      },
      "source": [
        "import tensorflow as tf\n",
        "import numpy as np\n",
        "import matplotlib.pyplot as plt\n",
        "rng = np.random"
      ],
      "execution_count": 43,
      "outputs": []
    },
    {
      "cell_type": "markdown",
      "metadata": {
        "id": "pBGtyviC5yf2",
        "colab_type": "text"
      },
      "source": [
        "Initilise the paramaters"
      ]
    },
    {
      "cell_type": "code",
      "metadata": {
        "id": "YAoPOx3lzalJ",
        "colab_type": "code",
        "colab": {}
      },
      "source": [
        "learning_rate = 0.01\n",
        "training_steps = 5000\n",
        "display_step = 50"
      ],
      "execution_count": 69,
      "outputs": []
    },
    {
      "cell_type": "markdown",
      "metadata": {
        "id": "nap65FI_56lO",
        "colab_type": "text"
      },
      "source": [
        "Generate trainning data, Here `X` contains value from 1 to 20  and `Y` contains square of elements of `X`"
      ]
    },
    {
      "cell_type": "code",
      "metadata": {
        "id": "FSizfOtj1ycP",
        "colab_type": "code",
        "colab": {
          "base_uri": "https://localhost:8080/",
          "height": 52
        },
        "outputId": "4e009efe-d35a-44f4-f804-f5eae8524c3c"
      },
      "source": [
        "X = [i for i in range(1,20)]\n",
        "Y=[i*i for i in range(1,20)]\n",
        "print('X = ',X)\n",
        "print('Y = ', Y)"
      ],
      "execution_count": 96,
      "outputs": [
        {
          "output_type": "stream",
          "text": [
            "X =  [1, 2, 3, 4, 5, 6, 7, 8, 9, 10, 11, 12, 13, 14, 15, 16, 17, 18, 19]\n",
            "Y =  [1, 4, 9, 16, 25, 36, 49, 64, 81, 100, 121, 144, 169, 196, 225, 256, 289, 324, 361]\n"
          ],
          "name": "stdout"
        }
      ]
    },
    {
      "cell_type": "code",
      "metadata": {
        "id": "VL2d06VA305s",
        "colab_type": "code",
        "colab": {
          "base_uri": "https://localhost:8080/",
          "height": 269
        },
        "outputId": "af68497b-4dcf-492c-c199-24877f0ce273"
      },
      "source": [
        "\n",
        "plt.plot(X, Y, 'ro', label='Original data')\n",
        "plt.legend()\n",
        "plt.show()"
      ],
      "execution_count": 97,
      "outputs": [
        {
          "output_type": "display_data",
          "data": {
            "image/png": "[encoded data removed]",
            "text/plain": [
              "<Figure size 432x288 with 1 Axes>"
            ]
          },
          "metadata": {
            "tags": [],
            "needs_background": "light"
          }
        }
      ]
    },
    {
      "cell_type": "code",
      "metadata": {
        "id": "iGtnbKrCltdA",
        "colab_type": "code",
        "colab": {}
      },
      "source": [
        "def quadratic_regression(x):\n",
        "    return  W2*tf.cast(tf.pow(x,2),tf.float32) + W1*tf.cast(tf.pow(x,1),tf.float32) + b\n",
        "\n",
        "def mean_square(y_pred, y_true):\n",
        "    return tf.reduce_mean(tf.square(y_pred - y_true))\n",
        "\n",
        "optimizer = tf.optimizers.Adam(learning_rate)"
      ],
      "execution_count": 98,
      "outputs": []
    },
    {
      "cell_type": "code",
      "metadata": {
        "id": "SlykpdVxnci2",
        "colab_type": "code",
        "colab": {}
      },
      "source": [
        "\n",
        "def run_optimization():\n",
        "    with tf.GradientTape() as g:\n",
        "        pred = quadratic_regression(X)\n",
        "        loss = mean_square(pred, Y)\n",
        "    gradients = g.gradient(loss, [W1,W2, b])\n",
        "\n",
        "    optimizer.apply_gradients(zip(gradients, [W1,W2, b]))"
      ],
      "execution_count": 99,
      "outputs": []
    },
    {
      "cell_type": "code",
      "metadata": {
        "id": "Mzl5weyu6n9I",
        "colab_type": "code",
        "colab": {}
      },
      "source": [
        "W1 = tf.Variable(rng.randn(), name=\"weight1\")\n",
        "W2 = tf.Variable(rng.randn(), name=\"weight2\")\n",
        "b = tf.Variable(rng.randn(), name=\"bias\")"
      ],
      "execution_count": 100,
      "outputs": []
    },
    {
      "cell_type": "code",
      "metadata": {
        "id": "G0j4d3rOzalW",
        "colab_type": "code",
        "colab": {
          "base_uri": "https://localhost:8080/",
          "height": 1000
        },
        "outputId": "69d54e82-d5c7-436e-fdf6-8a9da4521fb5"
      },
      "source": [
        "\n",
        "for step in range(1, training_steps + 1):\n",
        "    run_optimization()\n",
        "    \n",
        "    if step % display_step == 0:\n",
        "        pred = quadratic_regression(X)\n",
        "        loss = mean_square(pred, Y)\n",
        "        print(\"step: %i, loss: %f\" % (step, loss))"
      ],
      "execution_count": 101,
      "outputs": [
        {
          "output_type": "stream",
          "text": [
            "step: 50, loss: 2449.492188\n",
            "step: 100, loss: 109.327164\n",
            "step: 150, loss: 23.894299\n",
            "step: 200, loss: 23.118549\n",
            "step: 250, loss: 22.486843\n",
            "step: 300, loss: 21.801903\n",
            "step: 350, loss: 21.071945\n",
            "step: 400, loss: 20.305326\n",
            "step: 450, loss: 19.509802\n",
            "step: 500, loss: 18.692200\n",
            "step: 550, loss: 17.858953\n",
            "step: 600, loss: 17.015863\n",
            "step: 650, loss: 16.168245\n",
            "step: 700, loss: 15.321059\n",
            "step: 750, loss: 14.478929\n",
            "step: 800, loss: 13.645850\n",
            "step: 850, loss: 12.825714\n",
            "step: 900, loss: 12.021873\n",
            "step: 950, loss: 11.237417\n",
            "step: 1000, loss: 10.475029\n",
            "step: 1050, loss: 9.737025\n",
            "step: 1100, loss: 9.025407\n",
            "step: 1150, loss: 8.341969\n",
            "step: 1200, loss: 7.687965\n",
            "step: 1250, loss: 7.064480\n",
            "step: 1300, loss: 6.472298\n",
            "step: 1350, loss: 5.911957\n",
            "step: 1400, loss: 5.383640\n",
            "step: 1450, loss: 4.887404\n",
            "step: 1500, loss: 4.422995\n",
            "step: 1550, loss: 3.989943\n",
            "step: 1600, loss: 3.587683\n",
            "step: 1650, loss: 3.215396\n",
            "step: 1700, loss: 2.872201\n",
            "step: 1750, loss: 2.557019\n",
            "step: 1800, loss: 2.268650\n",
            "step: 1850, loss: 2.005888\n",
            "step: 1900, loss: 1.767399\n",
            "step: 1950, loss: 1.551812\n",
            "step: 2000, loss: 1.357721\n",
            "step: 2050, loss: 1.183748\n",
            "step: 2100, loss: 1.028431\n",
            "step: 2150, loss: 0.890380\n",
            "step: 2200, loss: 0.768210\n",
            "step: 2250, loss: 0.660580\n",
            "step: 2300, loss: 0.566192\n",
            "step: 2350, loss: 0.483791\n",
            "step: 2400, loss: 0.412200\n",
            "step: 2450, loss: 0.350297\n",
            "step: 2500, loss: 0.297029\n",
            "step: 2550, loss: 0.251419\n",
            "step: 2600, loss: 0.212551\n",
            "step: 2650, loss: 0.179608\n",
            "step: 2700, loss: 0.151820\n",
            "step: 2750, loss: 0.128505\n",
            "step: 2800, loss: 0.109035\n",
            "step: 2850, loss: 0.092867\n",
            "step: 2900, loss: 0.079502\n",
            "step: 2950, loss: 0.068507\n",
            "step: 3000, loss: 0.059502\n",
            "step: 3050, loss: 0.052157\n",
            "step: 3100, loss: 0.046191\n",
            "step: 3150, loss: 0.041357\n",
            "step: 3200, loss: 0.037448\n",
            "step: 3250, loss: 0.034289\n",
            "step: 3300, loss: 0.031735\n",
            "step: 3350, loss: 0.029662\n",
            "step: 3400, loss: 0.027970\n",
            "step: 3450, loss: 0.026579\n",
            "step: 3500, loss: 0.025421\n",
            "step: 3550, loss: 0.024446\n",
            "step: 3600, loss: 0.023606\n",
            "step: 3650, loss: 0.022872\n",
            "step: 3700, loss: 0.022215\n",
            "step: 3750, loss: 0.021617\n",
            "step: 3800, loss: 0.021062\n",
            "step: 3850, loss: 0.020537\n",
            "step: 3900, loss: 0.020035\n",
            "step: 3950, loss: 0.019548\n",
            "step: 4000, loss: 0.019072\n",
            "step: 4050, loss: 0.018605\n",
            "step: 4100, loss: 0.018142\n",
            "step: 4150, loss: 0.017684\n",
            "step: 4200, loss: 0.017227\n",
            "step: 4250, loss: 0.016774\n",
            "step: 4300, loss: 0.016322\n",
            "step: 4350, loss: 0.015873\n",
            "step: 4400, loss: 0.015424\n",
            "step: 4450, loss: 0.014978\n",
            "step: 4500, loss: 0.014535\n",
            "step: 4550, loss: 0.014093\n",
            "step: 4600, loss: 0.013654\n",
            "step: 4650, loss: 0.013217\n",
            "step: 4700, loss: 0.012785\n",
            "step: 4750, loss: 0.012356\n",
            "step: 4800, loss: 0.011930\n",
            "step: 4850, loss: 0.011509\n",
            "step: 4900, loss: 0.011093\n",
            "step: 4950, loss: 0.010682\n",
            "step: 5000, loss: 0.010277\n"
          ],
          "name": "stdout"
        }
      ]
    },
    {
      "cell_type": "code",
      "metadata": {
        "id": "be8T0cFjzalg",
        "colab_type": "code",
        "colab": {
          "base_uri": "https://localhost:8080/",
          "height": 269
        },
        "outputId": "3af39953-c789-4806-800b-5433630a1e07"
      },
      "source": [
        "# Graphic display\n",
        "plt.plot(X, Y, 'ro', label='Original data')\n",
        "plt.plot(X, quadratic_regression(X), label='Fitted line')\n",
        "plt.legend()\n",
        "plt.show()"
      ],
      "execution_count": 102,
      "outputs": [
        {
          "output_type": "display_data",
          "data": {
            "image/png": "[encoded data removed]",
            "text/plain": [
              "<Figure size 432x288 with 1 Axes>"
            ]
          },
          "metadata": {
            "tags": [],
            "needs_background": "light"
          }
        }
      ]
    },
    {
      "cell_type": "markdown",
      "metadata": {
        "id": "TLnOgAId3XPF",
        "colab_type": "text"
      },
      "source": [
        "#Polynomial regression"
      ]
    },
    {
      "cell_type": "code",
      "metadata": {
        "id": "eoxp5txJn1tf",
        "colab_type": "code",
        "colab": {}
      },
      "source": [
        "learning_rate = 0.01\n",
        "training_steps = 5000\n",
        "display_step = 50"
      ],
      "execution_count": 92,
      "outputs": []
    },
    {
      "cell_type": "code",
      "metadata": {
        "id": "FkMenn5Qn6j4",
        "colab_type": "code",
        "colab": {}
      },
      "source": [
        "X = [i for i in range(-20,20)]\n",
        "Y=[i*i*i for i in range(-20,20)]"
      ],
      "execution_count": 80,
      "outputs": []
    },
    {
      "cell_type": "code",
      "metadata": {
        "id": "0VVzZME4n-Y4",
        "colab_type": "code",
        "colab": {
          "base_uri": "https://localhost:8080/",
          "height": 269
        },
        "outputId": "ab2996fc-8c44-445c-be74-bd4f27704b99"
      },
      "source": [
        "plt.plot(X, Y, 'ro', label='Original data')\n",
        "plt.legend()\n",
        "plt.show()"
      ],
      "execution_count": 81,
      "outputs": [
        {
          "output_type": "display_data",
          "data": {
            "image/png": "[encoded data removed]",
            "text/plain": [
              "<Figure size 432x288 with 1 Axes>"
            ]
          },
          "metadata": {
            "tags": [],
            "needs_background": "light"
          }
        }
      ]
    },
    {
      "cell_type": "code",
      "metadata": {
        "id": "5iWCKIW3oDZX",
        "colab_type": "code",
        "colab": {}
      },
      "source": [
        "\n",
        "def polynomial_regression(x):\n",
        "    return  W3*tf.cast(tf.pow(x,3),tf.float32)+ W2*tf.cast(tf.pow(x,2),tf.float32) + W1*tf.cast(tf.pow(x,1),tf.float32) + b\n",
        "\n",
        "def mean_square(y_pred, y_true):\n",
        "    return tf.reduce_mean(tf.square(y_pred - y_true))\n",
        "\n",
        "optimizer = tf.optimizers.Adam(learning_rate)"
      ],
      "execution_count": 82,
      "outputs": []
    },
    {
      "cell_type": "code",
      "metadata": {
        "id": "Jy1GvMasoRQh",
        "colab_type": "code",
        "colab": {}
      },
      "source": [
        "\n",
        "def run_optimization():\n",
        "    with tf.GradientTape() as g:\n",
        "        pred = polynomial_regression(X)\n",
        "        loss = mean_square(pred, Y)\n",
        "    gradients = g.gradient(loss, [W1,W2,W3, b])\n",
        "\n",
        "    optimizer.apply_gradients(zip(gradients, [W1,W2,W3, b]))"
      ],
      "execution_count": 83,
      "outputs": []
    },
    {
      "cell_type": "code",
      "metadata": {
        "id": "scIH77Ztoaq6",
        "colab_type": "code",
        "colab": {}
      },
      "source": [
        "W1 = tf.Variable(rng.randn(), name=\"weight1\")\n",
        "W2 = tf.Variable(rng.randn(), name=\"weight2\")\n",
        "W3 = tf.Variable(rng.randn(), name=\"weight3\")\n",
        "b = tf.Variable(rng.randn(), name=\"bias\")"
      ],
      "execution_count": 93,
      "outputs": []
    },
    {
      "cell_type": "code",
      "metadata": {
        "id": "sty_8HM5oevP",
        "colab_type": "code",
        "colab": {
          "base_uri": "https://localhost:8080/",
          "height": 1000
        },
        "outputId": "e05aa707-a828-4d31-f24f-0c45be692783"
      },
      "source": [
        "for step in range(1, training_steps + 1):\n",
        "    run_optimization()\n",
        "    \n",
        "    if step % display_step == 0:\n",
        "        pred = polynomial_regression(X)\n",
        "        loss = mean_square(pred, Y)\n",
        "        print(\"step: %i, loss: %f\" % (step, loss))"
      ],
      "execution_count": 94,
      "outputs": [
        {
          "output_type": "stream",
          "text": [
            "step: 50, loss: 21382.753906\n",
            "step: 100, loss: 107.204124\n",
            "step: 150, loss: 5.130398\n",
            "step: 200, loss: 4.548244\n",
            "step: 250, loss: 4.491170\n",
            "step: 300, loss: 4.436260\n",
            "step: 350, loss: 4.380611\n",
            "step: 400, loss: 4.324413\n",
            "step: 450, loss: 4.267347\n",
            "step: 500, loss: 4.209718\n",
            "step: 550, loss: 4.151398\n",
            "step: 600, loss: 4.092507\n",
            "step: 650, loss: 4.032947\n",
            "step: 700, loss: 3.972879\n",
            "step: 750, loss: 3.911991\n",
            "step: 800, loss: 3.850598\n",
            "step: 850, loss: 3.788678\n",
            "step: 900, loss: 3.726229\n",
            "step: 950, loss: 3.663370\n",
            "step: 1000, loss: 3.599923\n",
            "step: 1050, loss: 3.535936\n",
            "step: 1100, loss: 3.471670\n",
            "step: 1150, loss: 3.406932\n",
            "step: 1200, loss: 3.341766\n",
            "step: 1250, loss: 3.276123\n",
            "step: 1300, loss: 3.210311\n",
            "step: 1350, loss: 3.144087\n",
            "step: 1400, loss: 3.077732\n",
            "step: 1450, loss: 3.011041\n",
            "step: 1500, loss: 2.944203\n",
            "step: 1550, loss: 2.877087\n",
            "step: 1600, loss: 2.810054\n",
            "step: 1650, loss: 2.742954\n",
            "step: 1700, loss: 2.675757\n",
            "step: 1750, loss: 2.608637\n",
            "step: 1800, loss: 2.541465\n",
            "step: 1850, loss: 2.474293\n",
            "step: 1900, loss: 2.407405\n",
            "step: 1950, loss: 2.340618\n",
            "step: 2000, loss: 2.274107\n",
            "step: 2050, loss: 2.207911\n",
            "step: 2100, loss: 2.141957\n",
            "step: 2150, loss: 2.076332\n",
            "step: 2200, loss: 2.011178\n",
            "step: 2250, loss: 1.946411\n",
            "step: 2300, loss: 1.882275\n",
            "step: 2350, loss: 1.818675\n",
            "step: 2400, loss: 1.755675\n",
            "step: 2450, loss: 1.693383\n",
            "step: 2500, loss: 1.631837\n",
            "step: 2550, loss: 1.570844\n",
            "step: 2600, loss: 1.510805\n",
            "step: 2650, loss: 1.451704\n",
            "step: 2700, loss: 1.393513\n",
            "step: 2750, loss: 1.336096\n",
            "step: 2800, loss: 1.279782\n",
            "step: 2850, loss: 1.224496\n",
            "step: 2900, loss: 1.170262\n",
            "step: 2950, loss: 1.117122\n",
            "step: 3000, loss: 1.065135\n",
            "step: 3050, loss: 1.014442\n",
            "step: 3100, loss: 0.964824\n",
            "step: 3150, loss: 0.916548\n",
            "step: 3200, loss: 0.869477\n",
            "step: 3250, loss: 0.823754\n",
            "step: 3300, loss: 0.779414\n",
            "step: 3350, loss: 0.736395\n",
            "step: 3400, loss: 0.694734\n",
            "step: 3450, loss: 0.654446\n",
            "step: 3500, loss: 0.615519\n",
            "step: 3550, loss: 0.578043\n",
            "step: 3600, loss: 0.542047\n",
            "step: 3650, loss: 0.507421\n",
            "step: 3700, loss: 0.474174\n",
            "step: 3750, loss: 0.442361\n",
            "step: 3800, loss: 0.411942\n",
            "step: 3850, loss: 0.382926\n",
            "step: 3900, loss: 0.355304\n",
            "step: 3950, loss: 0.329041\n",
            "step: 4000, loss: 0.304083\n",
            "step: 4050, loss: 0.280459\n",
            "step: 4100, loss: 0.258172\n",
            "step: 4150, loss: 0.237146\n",
            "step: 4200, loss: 0.217331\n",
            "step: 4250, loss: 0.198777\n",
            "step: 4300, loss: 0.181389\n",
            "step: 4350, loss: 0.165117\n",
            "step: 4400, loss: 0.149917\n",
            "step: 4450, loss: 0.135816\n",
            "step: 4500, loss: 0.122706\n",
            "step: 4550, loss: 0.110599\n",
            "step: 4600, loss: 0.099416\n",
            "step: 4650, loss: 0.089127\n",
            "step: 4700, loss: 0.079659\n",
            "step: 4750, loss: 0.071007\n",
            "step: 4800, loss: 0.063101\n",
            "step: 4850, loss: 0.055909\n",
            "step: 4900, loss: 0.049392\n",
            "step: 4950, loss: 0.043490\n",
            "step: 5000, loss: 0.038173\n"
          ],
          "name": "stdout"
        }
      ]
    },
    {
      "cell_type": "code",
      "metadata": {
        "id": "0R_yxqUBokpH",
        "colab_type": "code",
        "colab": {
          "base_uri": "https://localhost:8080/",
          "height": 269
        },
        "outputId": "3ae1805a-a70a-4ee6-fa63-afbd58f42262"
      },
      "source": [
        "# Graphic display\n",
        "plt.plot(X, Y, 'ro', label='Original data')\n",
        "plt.plot(X, polynomial_regression(X), label='Fitted line')\n",
        "plt.legend()\n",
        "plt.show()"
      ],
      "execution_count": 95,
      "outputs": [
        {
          "output_type": "display_data",
          "data": {
            "image/png": "[encoded data removed]",
            "text/plain": [
              "<Figure size 432x288 with 1 Axes>"
            ]
          },
          "metadata": {
            "tags": [],
            "needs_background": "light"
          }
        }
      ]
    },
    {
      "cell_type": "code",
      "metadata": {
        "id": "n50j8b3jrE3G",
        "colab_type": "code",
        "colab": {}
      },
      "source": [
        ""
      ],
      "execution_count": null,
      "outputs": []
    }
  ]
}