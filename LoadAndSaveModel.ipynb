{
  "nbformat": 4,
  "nbformat_minor": 0,
  "metadata": {
    "colab": {
      "name": "LoadAndSaveModel",
      "provenance": [],
      "collapsed_sections": [],
      "include_colab_link": true
    },
    "kernelspec": {
      "display_name": "Python 3",
      "name": "python3"
    }
  },
  "cells": [
    {
      "cell_type": "markdown",
      "metadata": {
        "id": "view-in-github",
        "colab_type": "text"
      },
      "source": [
        "<a href=\"https://colab.research.google.com/github/abhiyantaabhishek/tutorial/blob/master/LoadAndSaveModel.ipynb\" target=\"_parent\"><img src=\"https://colab.research.google.com/assets/colab-badge.svg\" alt=\"Open In Colab\"/></a>"
      ]
    },
    {
      "cell_type": "code",
      "metadata": {
        "id": "-86MdWhkRSCP",
        "colab_type": "code",
        "colab": {
          "base_uri": "https://localhost:8080/",
          "height": 35
        },
        "outputId": "18b7facb-5ced-446d-8b5b-08575a7f190b"
      },
      "source": [
        "import os\n",
        "\n",
        "import tensorflow as tf\n",
        "from tensorflow import keras\n",
        "\n",
        "print(tf.version.VERSION)"
      ],
      "execution_count": 13,
      "outputs": [
        {
          "output_type": "stream",
          "text": [
            "2.2.0\n"
          ],
          "name": "stdout"
        }
      ]
    },
    {
      "cell_type": "code",
      "metadata": {
        "id": "N6HOW1aKRVyD",
        "colab_type": "code",
        "colab": {}
      },
      "source": [
        "(train_images, train_labels), (test_images, test_labels) = tf.keras.datasets.mnist.load_data()\n",
        "\n",
        "train_labels = train_labels[:1000]\n",
        "test_labels = test_labels[:1000]\n",
        "\n",
        "train_images = train_images[:1000].reshape(-1, 28 * 28) / 255.0\n",
        "test_images = test_images[:1000].reshape(-1, 28 * 28) / 255.0"
      ],
      "execution_count": 14,
      "outputs": []
    },
    {
      "cell_type": "code",
      "metadata": {
        "id": "ZlJndhY9RZ8l",
        "colab_type": "code",
        "colab": {
          "base_uri": "https://localhost:8080/",
          "height": 266
        },
        "outputId": "292399c6-c440-4445-f781-1231423620f7"
      },
      "source": [
        "# Define a simple sequential model\n",
        "def create_model():\n",
        "  model = tf.keras.models.Sequential([\n",
        "    keras.layers.Dense(512, activation='relu', input_shape=(784,)),\n",
        "    keras.layers.Dropout(0.2),\n",
        "    keras.layers.Dense(10)\n",
        "  ])\n",
        "\n",
        "  model.compile(optimizer='adam',\n",
        "                loss=tf.losses.SparseCategoricalCrossentropy(from_logits=True),\n",
        "                metrics=['accuracy'])\n",
        "\n",
        "  return model\n",
        "\n",
        "# Create a basic model instance\n",
        "model = create_model()\n",
        "\n",
        "# Display the model's architecture\n",
        "model.summary()"
      ],
      "execution_count": 15,
      "outputs": [
        {
          "output_type": "stream",
          "text": [
            "Model: \"sequential_1\"\n",
            "_________________________________________________________________\n",
            "Layer (type)                 Output Shape              Param #   \n",
            "=================================================================\n",
            "dense_2 (Dense)              (None, 512)               401920    \n",
            "_________________________________________________________________\n",
            "dropout_1 (Dropout)          (None, 512)               0         \n",
            "_________________________________________________________________\n",
            "dense_3 (Dense)              (None, 10)                5130      \n",
            "=================================================================\n",
            "Total params: 407,050\n",
            "Trainable params: 407,050\n",
            "Non-trainable params: 0\n",
            "_________________________________________________________________\n"
          ],
          "name": "stdout"
        }
      ]
    },
    {
      "cell_type": "code",
      "metadata": {
        "id": "SfSrxBCYRqGS",
        "colab_type": "code",
        "colab": {
          "base_uri": "https://localhost:8080/",
          "height": 390
        },
        "outputId": "8c477170-3ac1-4f30-df48-688312382156"
      },
      "source": [
        "model.fit(train_images, \n",
        "          train_labels,  \n",
        "          epochs=10,\n",
        "          validation_data=(test_images,test_labels)) "
      ],
      "execution_count": 16,
      "outputs": [
        {
          "output_type": "stream",
          "text": [
            "Epoch 1/10\n",
            "32/32 [==============================] - 0s 10ms/step - loss: 1.1669 - accuracy: 0.6670 - val_loss: 0.7013 - val_accuracy: 0.7720\n",
            "Epoch 2/10\n",
            "32/32 [==============================] - 0s 8ms/step - loss: 0.4239 - accuracy: 0.8790 - val_loss: 0.5236 - val_accuracy: 0.8380\n",
            "Epoch 3/10\n",
            "32/32 [==============================] - 0s 7ms/step - loss: 0.2716 - accuracy: 0.9250 - val_loss: 0.4615 - val_accuracy: 0.8520\n",
            "Epoch 4/10\n",
            "32/32 [==============================] - 0s 7ms/step - loss: 0.1988 - accuracy: 0.9610 - val_loss: 0.4513 - val_accuracy: 0.8640\n",
            "Epoch 5/10\n",
            "32/32 [==============================] - 0s 8ms/step - loss: 0.1472 - accuracy: 0.9750 - val_loss: 0.4161 - val_accuracy: 0.8670\n",
            "Epoch 6/10\n",
            "32/32 [==============================] - 0s 8ms/step - loss: 0.1092 - accuracy: 0.9770 - val_loss: 0.4318 - val_accuracy: 0.8560\n",
            "Epoch 7/10\n",
            "32/32 [==============================] - 0s 8ms/step - loss: 0.0854 - accuracy: 0.9810 - val_loss: 0.4200 - val_accuracy: 0.8570\n",
            "Epoch 8/10\n",
            "32/32 [==============================] - 0s 7ms/step - loss: 0.0627 - accuracy: 0.9930 - val_loss: 0.4154 - val_accuracy: 0.8640\n",
            "Epoch 9/10\n",
            "32/32 [==============================] - 0s 7ms/step - loss: 0.0479 - accuracy: 0.9970 - val_loss: 0.4115 - val_accuracy: 0.8670\n",
            "Epoch 10/10\n",
            "32/32 [==============================] - 0s 8ms/step - loss: 0.0391 - accuracy: 1.0000 - val_loss: 0.4052 - val_accuracy: 0.8710\n"
          ],
          "name": "stdout"
        },
        {
          "output_type": "execute_result",
          "data": {
            "text/plain": [
              "<tensorflow.python.keras.callbacks.History at 0x7f88c7250d30>"
            ]
          },
          "metadata": {
            "tags": []
          },
          "execution_count": 16
        }
      ]
    },
    {
      "cell_type": "code",
      "metadata": {
        "id": "2w1uvYcgR0t-",
        "colab_type": "code",
        "colab": {
          "base_uri": "https://localhost:8080/",
          "height": 52
        },
        "outputId": "359a030a-f15f-4a84-aae4-97b958f7eee0"
      },
      "source": [
        "loss, acc = model.evaluate(test_images,  test_labels, verbose=2)\n",
        "print(\" model, accuracy: {:5.2f}%\".format(100*acc))"
      ],
      "execution_count": 17,
      "outputs": [
        {
          "output_type": "stream",
          "text": [
            "32/32 - 0s - loss: 0.4052 - accuracy: 0.8710\n",
            " model, accuracy: 87.10%\n"
          ],
          "name": "stdout"
        }
      ]
    },
    {
      "cell_type": "code",
      "metadata": {
        "id": "GWGjqrBQSA_Q",
        "colab_type": "code",
        "colab": {
          "base_uri": "https://localhost:8080/",
          "height": 35
        },
        "outputId": "258be453-f6fc-4f0a-8a29-a77b5dcfc628"
      },
      "source": [
        "ls"
      ],
      "execution_count": 18,
      "outputs": [
        {
          "output_type": "stream",
          "text": [
            "\u001b[0m\u001b[01;34msample_data\u001b[0m/  \u001b[01;34msaved_model\u001b[0m/\n"
          ],
          "name": "stdout"
        }
      ]
    },
    {
      "cell_type": "code",
      "metadata": {
        "id": "61winO9DR_cI",
        "colab_type": "code",
        "colab": {
          "base_uri": "https://localhost:8080/",
          "height": 35
        },
        "outputId": "766d6f26-399a-4e85-8057-12a8253a18d6"
      },
      "source": [
        "model.save('saved_model') "
      ],
      "execution_count": 19,
      "outputs": [
        {
          "output_type": "stream",
          "text": [
            "INFO:tensorflow:Assets written to: saved_model/assets\n"
          ],
          "name": "stdout"
        }
      ]
    },
    {
      "cell_type": "code",
      "metadata": {
        "id": "QEQEy3KOSlSV",
        "colab_type": "code",
        "colab": {
          "base_uri": "https://localhost:8080/",
          "height": 35
        },
        "outputId": "778e0d44-8d5a-4ce9-ffc0-e4b475fb3f58"
      },
      "source": [
        "ls saved_model"
      ],
      "execution_count": 20,
      "outputs": [
        {
          "output_type": "stream",
          "text": [
            "\u001b[0m\u001b[01;34massets\u001b[0m/  saved_model.pb  \u001b[01;34mvariables\u001b[0m/\n"
          ],
          "name": "stdout"
        }
      ]
    },
    {
      "cell_type": "code",
      "metadata": {
        "id": "6fw5IZ6fSrGF",
        "colab_type": "code",
        "colab": {}
      },
      "source": [
        "loaded_model = tf.keras.models.load_model('saved_model')"
      ],
      "execution_count": 21,
      "outputs": []
    },
    {
      "cell_type": "code",
      "metadata": {
        "id": "hJ5S_BobS8c0",
        "colab_type": "code",
        "colab": {
          "base_uri": "https://localhost:8080/",
          "height": 52
        },
        "outputId": "3bd8c9ec-9d1b-46b0-828e-555db0c6711b"
      },
      "source": [
        "loss, acc = loaded_model.evaluate(test_images,  test_labels, verbose=2)\n",
        "print(\" loaded_model, accuracy: {:5.2f}%\".format(100*acc))"
      ],
      "execution_count": 22,
      "outputs": [
        {
          "output_type": "stream",
          "text": [
            "32/32 - 0s - loss: 0.4052 - accuracy: 0.8710\n",
            " loaded_model, accuracy: 87.10%\n"
          ],
          "name": "stdout"
        }
      ]
    }
  ]
}
