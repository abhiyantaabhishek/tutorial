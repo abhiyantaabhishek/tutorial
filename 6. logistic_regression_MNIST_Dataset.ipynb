{
  "nbformat": 4,
  "nbformat_minor": 0,
  "metadata": {
    "kernelspec": {
      "display_name": "Python 2",
      "language": "python",
      "name": "python2"
    },
    "language_info": {
      "codemirror_mode": {
        "name": "ipython",
        "version": 2
      },
      "file_extension": ".py",
      "mimetype": "text/x-python",
      "name": "python",
      "nbconvert_exporter": "python",
      "pygments_lexer": "ipython2",
      "version": "2.7.15"
    },
    "colab": {
      "name": "logistic_regression_MNIST_Dataset.ipynb",
      "provenance": [],
      "include_colab_link": true
    }
  },
  "cells": [
    {
      "cell_type": "markdown",
      "metadata": {
        "id": "view-in-github",
        "colab_type": "text"
      },
      "source": [
        "<a href=\"https://colab.research.google.com/github/abhiyantaabhishek/tutorial/blob/master/6.%20logistic_regression_MNIST_Dataset.ipynb\" target=\"_parent\"><img src=\"https://colab.research.google.com/assets/colab-badge.svg\" alt=\"Open In Colab\"/></a>"
      ]
    },
    {
      "cell_type": "markdown",
      "metadata": {
        "id": "YXOtTvi_zalA",
        "colab_type": "text"
      },
      "source": [
        "#  Logistic Regression MNIST Dataset  Example\n",
        "\n",
        "MNIST Dataset  Logistic regression example for understanding the concept \n"
      ]
    },
    {
      "cell_type": "markdown",
      "metadata": {
        "id": "QBd__oQO5uPW",
        "colab_type": "text"
      },
      "source": [
        "Import the library"
      ]
    },
    {
      "cell_type": "code",
      "metadata": {
        "id": "n0NPI4WczalF",
        "colab_type": "code",
        "colab": {}
      },
      "source": [
        "import tensorflow as tf\n",
        "import numpy as np\n",
        "import matplotlib.pyplot as plt\n",
        "rng = np.random"
      ],
      "execution_count": 85,
      "outputs": []
    },
    {
      "cell_type": "markdown",
      "metadata": {
        "id": "pBGtyviC5yf2",
        "colab_type": "text"
      },
      "source": [
        "Initilise the paramaters"
      ]
    },
    {
      "cell_type": "code",
      "metadata": {
        "id": "YAoPOx3lzalJ",
        "colab_type": "code",
        "colab": {}
      },
      "source": [
        "\n",
        "\n",
        "num_classes = 10\n",
        "num_row= num_col = 28\n",
        "num_features = num_row * num_col\n",
        "\n",
        "# Training parameters.\n",
        "learning_rate = 0.01\n",
        "training_steps = 5000\n",
        "batch_size = 256\n",
        "display_step = 50"
      ],
      "execution_count": 86,
      "outputs": []
    },
    {
      "cell_type": "markdown",
      "metadata": {
        "id": "nap65FI_56lO",
        "colab_type": "text"
      },
      "source": [
        "load trainning data, Here X and Y"
      ]
    },
    {
      "cell_type": "code",
      "metadata": {
        "id": "vy_eJ76n0O6q",
        "colab_type": "code",
        "colab": {}
      },
      "source": [
        "\n",
        "from tensorflow.keras.datasets import mnist\n",
        "(x_train, y_train), (x_test, y_test) = mnist.load_data()"
      ],
      "execution_count": 87,
      "outputs": []
    },
    {
      "cell_type": "code",
      "metadata": {
        "id": "MHeHJ6dR0VDd",
        "colab_type": "code",
        "colab": {
          "base_uri": "https://localhost:8080/",
          "height": 52
        },
        "outputId": "0145b1ae-10ec-49ff-b9d1-acdc314727b2"
      },
      "source": [
        "print(x_train.shape)\n",
        "print(y_train.shape)"
      ],
      "execution_count": 88,
      "outputs": [
        {
          "output_type": "stream",
          "text": [
            "(60000, 28, 28)\n",
            "(60000,)\n"
          ],
          "name": "stdout"
        }
      ]
    },
    {
      "cell_type": "code",
      "metadata": {
        "id": "uu3ydmUm0aOt",
        "colab_type": "code",
        "colab": {
          "base_uri": "https://localhost:8080/",
          "height": 287
        },
        "outputId": "46881398-bfab-4c8c-fbbe-48a3c37bd1ee"
      },
      "source": [
        "plt.imshow(x_train[0],cmap='gray')"
      ],
      "execution_count": 89,
      "outputs": [
        {
          "output_type": "execute_result",
          "data": {
            "text/plain": [
              "<matplotlib.image.AxesImage at 0x7f8decd76210>"
            ]
          },
          "metadata": {
            "tags": []
          },
          "execution_count": 89
        },
        {
          "output_type": "display_data",
          "data": {
            "image/png": "[encoded data removed]",
            "text/plain": [
              "<Figure size 432x288 with 1 Axes>"
            ]
          },
          "metadata": {
            "tags": [],
            "needs_background": "light"
          }
        }
      ]
    },
    {
      "cell_type": "code",
      "metadata": {
        "id": "_f9JvJHT0vct",
        "colab_type": "code",
        "colab": {
          "base_uri": "https://localhost:8080/",
          "height": 35
        },
        "outputId": "3674c538-a89a-42a0-d40f-69d6ae364be8"
      },
      "source": [
        "y_train[0]"
      ],
      "execution_count": 90,
      "outputs": [
        {
          "output_type": "execute_result",
          "data": {
            "text/plain": [
              "5"
            ]
          },
          "metadata": {
            "tags": []
          },
          "execution_count": 90
        }
      ]
    },
    {
      "cell_type": "code",
      "metadata": {
        "id": "opjLm8dm0779",
        "colab_type": "code",
        "colab": {}
      },
      "source": [
        "x_train, x_test = np.array(x_train, np.float32), np.array(x_test, np.float32)"
      ],
      "execution_count": 91,
      "outputs": []
    },
    {
      "cell_type": "code",
      "metadata": {
        "id": "mxjhSWx0hLCV",
        "colab_type": "code",
        "colab": {}
      },
      "source": [
        "x_train, x_test = x_train.reshape([-1, num_features]), x_test.reshape([-1, num_features])"
      ],
      "execution_count": 92,
      "outputs": []
    },
    {
      "cell_type": "code",
      "metadata": {
        "id": "5IYDd0htKIqt",
        "colab_type": "code",
        "colab": {}
      },
      "source": [
        "x_train, x_test = (x_train-x_train.mean()) / x_train.std(), (x_test-x_test.mean()) / x_test.std()"
      ],
      "execution_count": 93,
      "outputs": []
    },
    {
      "cell_type": "code",
      "metadata": {
        "id": "CmwRjEEchXAC",
        "colab_type": "code",
        "colab": {}
      },
      "source": [
        "train_data = tf.data.Dataset.from_tensor_slices((x_train, y_train))\n",
        "train_data = train_data.repeat().shuffle(5000).batch(batch_size).prefetch(1)"
      ],
      "execution_count": 94,
      "outputs": []
    },
    {
      "cell_type": "code",
      "metadata": {
        "id": "b2Y1mCygzalS",
        "colab_type": "code",
        "colab": {}
      },
      "source": [
        "\n",
        "def logistic_regression(x):\n",
        "    return tf.nn.softmax(tf.matmul(x, W) + b)\n",
        "\n",
        "def cross_entropy(y_pred, y_true):\n",
        "    y_true = tf.one_hot(y_true, depth=num_classes)\n",
        "    # Clip prediction values to avoid log(0) error.\n",
        "    y_pred = tf.clip_by_value(y_pred, 1e-9, 1.)\n",
        "    return tf.reduce_mean(-tf.reduce_sum(y_true * tf.math.log(y_pred),1))\n",
        "\n",
        "\n",
        "def accuracy(y_pred, y_true):\n",
        "    correct_prediction = tf.equal(tf.argmax(y_pred, 1), tf.cast(y_true, tf.int64))\n",
        "    return tf.reduce_mean(tf.cast(correct_prediction, tf.float32))\n",
        "\n",
        "optimizer = tf.optimizers.Adam(learning_rate)"
      ],
      "execution_count": 95,
      "outputs": []
    },
    {
      "cell_type": "code",
      "metadata": {
        "id": "-jSJNiFwzalU",
        "colab_type": "code",
        "colab": {}
      },
      "source": [
        "\n",
        "def run_optimization(x, y):\n",
        "    with tf.GradientTape() as g:\n",
        "        pred = logistic_regression(x)\n",
        "        loss = cross_entropy(pred, y)\n",
        "    gradients = g.gradient(loss, [W, b])\n",
        "\n",
        "    optimizer.apply_gradients(zip(gradients, [W, b]))"
      ],
      "execution_count": 96,
      "outputs": []
    },
    {
      "cell_type": "markdown",
      "metadata": {
        "id": "BO4Xo1TlPIxt",
        "colab_type": "text"
      },
      "source": [
        "Initiallise weight with uniform distribution"
      ]
    },
    {
      "cell_type": "code",
      "metadata": {
        "id": "yDuOPMyGNdTj",
        "colab_type": "code",
        "colab": {}
      },
      "source": [
        "mu, sigma = 0, 0.1\n",
        "W = tf.Variable(rng.normal(mu, sigma, (num_features,num_classes)), name=\"weight\",dtype =tf.float32 )\n",
        "b = tf.Variable(rng.normal(mu, sigma, num_classes), name=\"bias\",dtype =tf.float32 )"
      ],
      "execution_count": 97,
      "outputs": []
    },
    {
      "cell_type": "markdown",
      "metadata": {
        "id": "aOPqI82JPNkw",
        "colab_type": "text"
      },
      "source": [
        "Do not run below cell, its just for reference"
      ]
    },
    {
      "cell_type": "code",
      "metadata": {
        "id": "Mzl5weyu6n9I",
        "colab_type": "code",
        "colab": {}
      },
      "source": [
        "# Do not run this cell, its just for reference \n",
        "#W = tf.Variable(rng.randn(num_features,num_classes), name=\"weight\",dtype =tf.float32 )\n",
        "#b = tf.Variable(rng.randn(num_classes), name=\"bias\",dtype =tf.float32 )"
      ],
      "execution_count": 98,
      "outputs": []
    },
    {
      "cell_type": "code",
      "metadata": {
        "id": "G0j4d3rOzalW",
        "colab_type": "code",
        "colab": {
          "base_uri": "https://localhost:8080/",
          "height": 1000
        },
        "outputId": "aa3d51b9-21ff-4f7d-c15c-acdbab018318"
      },
      "source": [
        "\n",
        "for step, (batch_x, batch_y) in enumerate(train_data.take(training_steps), 1):\n",
        "    run_optimization(batch_x, batch_y)\n",
        "    \n",
        "    if step % display_step == 0:\n",
        "        pred = logistic_regression(batch_x)\n",
        "        loss = cross_entropy(pred, batch_y)\n",
        "        acc = accuracy(pred, batch_y)\n",
        "        print(\"step: %i, loss: %f, accuracy: %f\" % (step, loss, acc))"
      ],
      "execution_count": 99,
      "outputs": [
        {
          "output_type": "stream",
          "text": [
            "step: 50, loss: 0.648139, accuracy: 0.847656\n",
            "step: 100, loss: 0.426429, accuracy: 0.867188\n",
            "step: 150, loss: 0.297127, accuracy: 0.906250\n",
            "step: 200, loss: 0.244784, accuracy: 0.941406\n",
            "step: 250, loss: 0.285970, accuracy: 0.910156\n",
            "step: 300, loss: 0.255343, accuracy: 0.910156\n",
            "step: 350, loss: 0.316992, accuracy: 0.906250\n",
            "step: 400, loss: 0.297101, accuracy: 0.921875\n",
            "step: 450, loss: 0.326712, accuracy: 0.917969\n",
            "step: 500, loss: 0.317759, accuracy: 0.933594\n",
            "step: 550, loss: 0.415254, accuracy: 0.902344\n",
            "step: 600, loss: 0.244375, accuracy: 0.933594\n",
            "step: 650, loss: 0.332866, accuracy: 0.906250\n",
            "step: 700, loss: 0.231053, accuracy: 0.921875\n",
            "step: 750, loss: 0.182622, accuracy: 0.929688\n",
            "step: 800, loss: 0.363788, accuracy: 0.910156\n",
            "step: 850, loss: 0.230317, accuracy: 0.898438\n",
            "step: 900, loss: 0.207550, accuracy: 0.933594\n",
            "step: 950, loss: 0.322355, accuracy: 0.914062\n",
            "step: 1000, loss: 0.312648, accuracy: 0.941406\n",
            "step: 1050, loss: 0.318033, accuracy: 0.910156\n",
            "step: 1100, loss: 0.290633, accuracy: 0.925781\n",
            "step: 1150, loss: 0.363019, accuracy: 0.910156\n",
            "step: 1200, loss: 0.289632, accuracy: 0.910156\n",
            "step: 1250, loss: 0.329603, accuracy: 0.886719\n",
            "step: 1300, loss: 0.269901, accuracy: 0.933594\n",
            "step: 1350, loss: 0.251990, accuracy: 0.925781\n",
            "step: 1400, loss: 0.294471, accuracy: 0.933594\n",
            "step: 1450, loss: 0.366376, accuracy: 0.910156\n",
            "step: 1500, loss: 0.266990, accuracy: 0.921875\n",
            "step: 1550, loss: 0.320286, accuracy: 0.902344\n",
            "step: 1600, loss: 0.213388, accuracy: 0.921875\n",
            "step: 1650, loss: 0.166858, accuracy: 0.933594\n",
            "step: 1700, loss: 0.303877, accuracy: 0.910156\n",
            "step: 1750, loss: 0.334431, accuracy: 0.917969\n",
            "step: 1800, loss: 0.202969, accuracy: 0.941406\n",
            "step: 1850, loss: 0.296475, accuracy: 0.914062\n",
            "step: 1900, loss: 0.356106, accuracy: 0.902344\n",
            "step: 1950, loss: 0.497115, accuracy: 0.890625\n",
            "step: 2000, loss: 0.285251, accuracy: 0.906250\n",
            "step: 2050, loss: 0.311555, accuracy: 0.906250\n",
            "step: 2100, loss: 0.144555, accuracy: 0.953125\n",
            "step: 2150, loss: 0.310118, accuracy: 0.886719\n",
            "step: 2200, loss: 0.307001, accuracy: 0.906250\n",
            "step: 2250, loss: 0.415027, accuracy: 0.882812\n",
            "step: 2300, loss: 0.327937, accuracy: 0.914062\n",
            "step: 2350, loss: 0.482271, accuracy: 0.914062\n",
            "step: 2400, loss: 0.307014, accuracy: 0.902344\n",
            "step: 2450, loss: 0.150105, accuracy: 0.945312\n",
            "step: 2500, loss: 0.371921, accuracy: 0.898438\n",
            "step: 2550, loss: 0.331142, accuracy: 0.917969\n",
            "step: 2600, loss: 0.415657, accuracy: 0.910156\n",
            "step: 2650, loss: 0.358666, accuracy: 0.898438\n",
            "step: 2700, loss: 0.300303, accuracy: 0.933594\n",
            "step: 2750, loss: 0.390232, accuracy: 0.917969\n",
            "step: 2800, loss: 0.406645, accuracy: 0.902344\n",
            "step: 2850, loss: 0.367977, accuracy: 0.917969\n",
            "step: 2900, loss: 0.295119, accuracy: 0.925781\n",
            "step: 2950, loss: 0.412796, accuracy: 0.902344\n",
            "step: 3000, loss: 0.357545, accuracy: 0.886719\n",
            "step: 3050, loss: 0.253763, accuracy: 0.929688\n",
            "step: 3100, loss: 0.308999, accuracy: 0.890625\n",
            "step: 3150, loss: 0.313758, accuracy: 0.902344\n",
            "step: 3200, loss: 0.370401, accuracy: 0.914062\n",
            "step: 3250, loss: 0.196464, accuracy: 0.929688\n",
            "step: 3300, loss: 0.214436, accuracy: 0.929688\n",
            "step: 3350, loss: 0.215523, accuracy: 0.949219\n",
            "step: 3400, loss: 0.242342, accuracy: 0.929688\n",
            "step: 3450, loss: 0.275963, accuracy: 0.937500\n",
            "step: 3500, loss: 0.228311, accuracy: 0.933594\n",
            "step: 3550, loss: 0.326486, accuracy: 0.953125\n",
            "step: 3600, loss: 0.440333, accuracy: 0.898438\n",
            "step: 3650, loss: 0.420858, accuracy: 0.902344\n",
            "step: 3700, loss: 0.426325, accuracy: 0.894531\n",
            "step: 3750, loss: 0.153364, accuracy: 0.941406\n",
            "step: 3800, loss: 0.515761, accuracy: 0.894531\n",
            "step: 3850, loss: 0.265847, accuracy: 0.917969\n",
            "step: 3900, loss: 0.291451, accuracy: 0.921875\n",
            "step: 3950, loss: 0.250679, accuracy: 0.925781\n",
            "step: 4000, loss: 0.200897, accuracy: 0.945312\n",
            "step: 4050, loss: 0.343870, accuracy: 0.933594\n",
            "step: 4100, loss: 0.191781, accuracy: 0.949219\n",
            "step: 4150, loss: 0.238351, accuracy: 0.914062\n",
            "step: 4200, loss: 0.309673, accuracy: 0.914062\n",
            "step: 4250, loss: 0.292427, accuracy: 0.914062\n",
            "step: 4300, loss: 0.230056, accuracy: 0.929688\n",
            "step: 4350, loss: 0.188849, accuracy: 0.941406\n",
            "step: 4400, loss: 0.320721, accuracy: 0.925781\n",
            "step: 4450, loss: 0.208069, accuracy: 0.933594\n",
            "step: 4500, loss: 0.220260, accuracy: 0.949219\n",
            "step: 4550, loss: 0.142000, accuracy: 0.957031\n",
            "step: 4600, loss: 0.357051, accuracy: 0.902344\n",
            "step: 4650, loss: 0.252170, accuracy: 0.906250\n",
            "step: 4700, loss: 0.213347, accuracy: 0.957031\n",
            "step: 4750, loss: 0.328197, accuracy: 0.906250\n",
            "step: 4800, loss: 0.335629, accuracy: 0.937500\n",
            "step: 4850, loss: 0.259105, accuracy: 0.910156\n",
            "step: 4900, loss: 0.243909, accuracy: 0.941406\n",
            "step: 4950, loss: 0.158936, accuracy: 0.957031\n",
            "step: 5000, loss: 0.217006, accuracy: 0.914062\n"
          ],
          "name": "stdout"
        }
      ]
    },
    {
      "cell_type": "code",
      "metadata": {
        "id": "A1MsxLBI1szp",
        "colab_type": "code",
        "colab": {
          "base_uri": "https://localhost:8080/",
          "height": 35
        },
        "outputId": "f51eb0a5-9e17-42a5-8b27-8ed896b0f074"
      },
      "source": [
        "pred = logistic_regression(x_test)\n",
        "print(\"Test Accuracy: %f\" % accuracy(pred, y_test))"
      ],
      "execution_count": 100,
      "outputs": [
        {
          "output_type": "stream",
          "text": [
            "Test Accuracy: 0.903400\n"
          ],
          "name": "stdout"
        }
      ]
    },
    {
      "cell_type": "code",
      "metadata": {
        "id": "puHukkXW19--",
        "colab_type": "code",
        "colab": {
          "base_uri": "https://localhost:8080/",
          "height": 35
        },
        "outputId": "d763ce8d-2f7a-42d1-82f1-f5331f9940e2"
      },
      "source": [
        "x_test.shape"
      ],
      "execution_count": 101,
      "outputs": [
        {
          "output_type": "execute_result",
          "data": {
            "text/plain": [
              "(10000, 784)"
            ]
          },
          "metadata": {
            "tags": []
          },
          "execution_count": 101
        }
      ]
    },
    {
      "cell_type": "code",
      "metadata": {
        "id": "G5yF4WDW2Gnt",
        "colab_type": "code",
        "colab": {}
      },
      "source": [
        "n_images = 5\n",
        "test_images = x_test[n_images].reshape(1,784)\n",
        "predictions = logistic_regression(test_images)"
      ],
      "execution_count": 102,
      "outputs": []
    },
    {
      "cell_type": "code",
      "metadata": {
        "id": "X0wjEHpn2Qi2",
        "colab_type": "code",
        "colab": {
          "base_uri": "https://localhost:8080/",
          "height": 35
        },
        "outputId": "af006a6a-4da8-4896-bc8f-7a94d0a78857"
      },
      "source": [
        "test_images.shape"
      ],
      "execution_count": 103,
      "outputs": [
        {
          "output_type": "execute_result",
          "data": {
            "text/plain": [
              "(1, 784)"
            ]
          },
          "metadata": {
            "tags": []
          },
          "execution_count": 103
        }
      ]
    },
    {
      "cell_type": "code",
      "metadata": {
        "id": "6BvNepDg28Ch",
        "colab_type": "code",
        "colab": {
          "base_uri": "https://localhost:8080/",
          "height": 287
        },
        "outputId": "b99c56e5-30e2-4563-c8d6-2d47d52f55c1"
      },
      "source": [
        "plt.imshow(np.reshape(test_images, [28, 28]), cmap='gray')"
      ],
      "execution_count": 104,
      "outputs": [
        {
          "output_type": "execute_result",
          "data": {
            "text/plain": [
              "<matplotlib.image.AxesImage at 0x7f8deccf3210>"
            ]
          },
          "metadata": {
            "tags": []
          },
          "execution_count": 104
        },
        {
          "output_type": "display_data",
          "data": {
            "image/png": "[encoded data removed]",
            "text/plain": [
              "<Figure size 432x288 with 1 Axes>"
            ]
          },
          "metadata": {
            "tags": [],
            "needs_background": "light"
          }
        }
      ]
    },
    {
      "cell_type": "code",
      "metadata": {
        "id": "9Np985NS3f1t",
        "colab_type": "code",
        "colab": {
          "base_uri": "https://localhost:8080/",
          "height": 35
        },
        "outputId": "7f35dda9-a819-4282-da01-d9051e6777cf"
      },
      "source": [
        "np.argmax(predictions)"
      ],
      "execution_count": 105,
      "outputs": [
        {
          "output_type": "execute_result",
          "data": {
            "text/plain": [
              "1"
            ]
          },
          "metadata": {
            "tags": []
          },
          "execution_count": 105
        }
      ]
    }
  ]
}