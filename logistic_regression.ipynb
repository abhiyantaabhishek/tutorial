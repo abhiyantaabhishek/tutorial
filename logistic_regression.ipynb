{
  "nbformat": 4,
  "nbformat_minor": 0,
  "metadata": {
    "kernelspec": {
      "display_name": "Python 2",
      "language": "python",
      "name": "python2"
    },
    "language_info": {
      "codemirror_mode": {
        "name": "ipython",
        "version": 2
      },
      "file_extension": ".py",
      "mimetype": "text/x-python",
      "name": "python",
      "nbconvert_exporter": "python",
      "pygments_lexer": "ipython2",
      "version": "2.7.15"
    },
    "colab": {
      "name": "linear_regression.ipynb",
      "provenance": [],
      "include_colab_link": true
    }
  },
  "cells": [
    {
      "cell_type": "markdown",
      "metadata": {
        "id": "view-in-github",
        "colab_type": "text"
      },
      "source": [
        "<a href=\"https://colab.research.google.com/github/abhiyantaabhishek/tutorial/blob/master/logistic_regression.ipynb\" target=\"_parent\"><img src=\"https://colab.research.google.com/assets/colab-badge.svg\" alt=\"Open In Colab\"/></a>"
      ]
    },
    {
      "cell_type": "markdown",
      "metadata": {
        "id": "YXOtTvi_zalA",
        "colab_type": "text"
      },
      "source": [
        "# Simplest Logistic Regression Example\n",
        "\n",
        "Simplest Logistic regression example for understanding the concept \n"
      ]
    },
    {
      "cell_type": "markdown",
      "metadata": {
        "id": "QBd__oQO5uPW",
        "colab_type": "text"
      },
      "source": [
        "Import the library"
      ]
    },
    {
      "cell_type": "code",
      "metadata": {
        "id": "n0NPI4WczalF",
        "colab_type": "code",
        "colab": {}
      },
      "source": [
        "import tensorflow as tf\n",
        "import numpy as np\n",
        "import matplotlib.pyplot as plt\n",
        "rng = np.random"
      ],
      "execution_count": 1,
      "outputs": []
    },
    {
      "cell_type": "markdown",
      "metadata": {
        "id": "pBGtyviC5yf2",
        "colab_type": "text"
      },
      "source": [
        "Initilise the paramaters"
      ]
    },
    {
      "cell_type": "code",
      "metadata": {
        "id": "YAoPOx3lzalJ",
        "colab_type": "code",
        "colab": {}
      },
      "source": [
        "\n",
        "\n",
        "num_classes = 3\n",
        "num_row= num_col = 28\n",
        "num_features = num_row * num_col\n",
        "\n",
        "# Training parameters.\n",
        "learning_rate = 0.01\n",
        "training_steps = 1000\n",
        "batch_size = 256\n",
        "display_step = 50"
      ],
      "execution_count": 2,
      "outputs": []
    },
    {
      "cell_type": "markdown",
      "metadata": {
        "id": "nap65FI_56lO",
        "colab_type": "text"
      },
      "source": [
        "Generate trainning data, Here X and Y"
      ]
    },
    {
      "cell_type": "code",
      "metadata": {
        "id": "ljP96G4xda3L",
        "colab_type": "code",
        "colab": {}
      },
      "source": [
        "x_train = []\n",
        "y_train = []\n",
        "x_test = []\n",
        "y_test = []\n",
        "for _ in range(500):\n",
        "  x_train.append(rng.randint(low = 10,high=21, size=(num_row , num_col)))\n",
        "  y_train.append(0)\n",
        "  x_train.append(rng.randint(low = 30,high=41, size=(num_row , num_col)))\n",
        "  y_train.append(1)\n",
        "  x_train.append(rng.randint(low = 50,high=61, size=(num_row , num_col)))\n",
        "  y_train.append(2)\n",
        "x_train = np.array(x_train,dtype=np.float32)\n",
        "y_train = np.array(y_train,dtype=np.uint8)\n",
        "\n",
        "for _ in range(100):\n",
        "  x_test.append(rng.randint(low = 10,high=21, size=(num_row , num_col)))\n",
        "  y_test.append(0)\n",
        "  x_test.append(rng.randint(low = 30,high=41, size=(num_row , num_col)))\n",
        "  y_test.append(1)\n",
        "  x_test.append(rng.randint(low = 50,high=61, size=(num_row , num_col)))\n",
        "  y_test.append(2)\n",
        "x_test = np.array(x_test,dtype=np.float32)\n",
        "y_test = np.array(y_test,dtype=np.uint8)\n"
      ],
      "execution_count": 3,
      "outputs": []
    },
    {
      "cell_type": "code",
      "metadata": {
        "id": "mxjhSWx0hLCV",
        "colab_type": "code",
        "colab": {}
      },
      "source": [
        "x_train, x_test = x_train.reshape([-1, num_features]), x_test.reshape([-1, num_features])"
      ],
      "execution_count": 4,
      "outputs": []
    },
    {
      "cell_type": "code",
      "metadata": {
        "id": "5IYDd0htKIqt",
        "colab_type": "code",
        "colab": {}
      },
      "source": [
        "x_train, x_test = (x_train-x_train.mean()) / x_train.std(), (x_test-x_test.mean()) / x_test.std()"
      ],
      "execution_count": 5,
      "outputs": []
    },
    {
      "cell_type": "code",
      "metadata": {
        "id": "CmwRjEEchXAC",
        "colab_type": "code",
        "colab": {}
      },
      "source": [
        "train_data = tf.data.Dataset.from_tensor_slices((x_train, y_train))\n",
        "train_data = train_data.repeat().shuffle(5000).batch(batch_size).prefetch(1)"
      ],
      "execution_count": 6,
      "outputs": []
    },
    {
      "cell_type": "code",
      "metadata": {
        "id": "nA9eAjkzh9RO",
        "colab_type": "code",
        "colab": {
          "base_uri": "https://localhost:8080/",
          "height": 269
        },
        "outputId": "a4e532c6-6bc0-4cd7-8679-5f3babd4eaec"
      },
      "source": [
        "for i in range(0,50):\n",
        "  if(y_train[i] == 0):\n",
        "    plt.plot(x_train[i],'ro', label='Original data')\n",
        "  if(y_train[i] == 1):\n",
        "    plt.plot(x_train[i],'bo', label='Original data')    \n",
        "  if(y_train[i] == 2):\n",
        "    plt.plot(x_train[i],'go', label='Original data')    "
      ],
      "execution_count": 14,
      "outputs": [
        {
          "output_type": "display_data",
          "data": {
            "image/png": "[encoded data removed]",
            "text/plain": [
              "<Figure size 432x288 with 1 Axes>"
            ]
          },
          "metadata": {
            "tags": [],
            "needs_background": "light"
          }
        }
      ]
    },
    {
      "cell_type": "code",
      "metadata": {
        "id": "b2Y1mCygzalS",
        "colab_type": "code",
        "colab": {}
      },
      "source": [
        "\n",
        "def logistic_regression(x):\n",
        "    # Apply softmax to normalize the logits to a probability distribution.\n",
        "    return tf.nn.softmax(tf.matmul(x, W) + b)\n",
        "\n",
        "\n",
        "\n",
        "\n",
        "# Cross-Entropy loss function.\n",
        "def cross_entropy(y_pred, y_true):\n",
        "    # Encode label to a one hot vector.\n",
        "    y_true = tf.one_hot(y_true, depth=num_classes)\n",
        "    # Clip prediction values to avoid log(0) error.\n",
        "    y_pred = tf.clip_by_value(y_pred, 1e-9, 1.)\n",
        "    # Compute cross-entropy.\n",
        "    return tf.reduce_mean(-tf.reduce_sum(y_true * tf.math.log(y_pred),1))\n",
        "\n",
        "# Accuracy metric.\n",
        "def accuracy(y_pred, y_true):\n",
        "    # Predicted class is the index of highest score in prediction vector (i.e. argmax).\n",
        "    correct_prediction = tf.equal(tf.argmax(y_pred, 1), tf.cast(y_true, tf.int64))\n",
        "    return tf.reduce_mean(tf.cast(correct_prediction, tf.float32))\n",
        "\n",
        "optimizer = tf.optimizers.Adam(learning_rate)"
      ],
      "execution_count": 8,
      "outputs": []
    },
    {
      "cell_type": "code",
      "metadata": {
        "id": "-jSJNiFwzalU",
        "colab_type": "code",
        "colab": {}
      },
      "source": [
        "\n",
        "def run_optimization(x, y):\n",
        "    with tf.GradientTape() as g:\n",
        "        pred = logistic_regression(x)\n",
        "        loss = cross_entropy(pred, y)\n",
        "    gradients = g.gradient(loss, [W, b])\n",
        "\n",
        "    optimizer.apply_gradients(zip(gradients, [W, b]))"
      ],
      "execution_count": 9,
      "outputs": []
    },
    {
      "cell_type": "markdown",
      "metadata": {
        "id": "BO4Xo1TlPIxt",
        "colab_type": "text"
      },
      "source": [
        "Initiallise weight with uniform distribution"
      ]
    },
    {
      "cell_type": "code",
      "metadata": {
        "id": "yDuOPMyGNdTj",
        "colab_type": "code",
        "colab": {}
      },
      "source": [
        "mu, sigma = 0, 0.1\n",
        "W = tf.Variable(rng.normal(mu, sigma, (num_features,num_classes)), name=\"weight\",dtype =tf.float32 )\n",
        "b = tf.Variable(rng.normal(mu, sigma, num_classes), name=\"bias\",dtype =tf.float32 )"
      ],
      "execution_count": 10,
      "outputs": []
    },
    {
      "cell_type": "markdown",
      "metadata": {
        "id": "aOPqI82JPNkw",
        "colab_type": "text"
      },
      "source": [
        "Do not run below cell, its just for reference"
      ]
    },
    {
      "cell_type": "code",
      "metadata": {
        "id": "Mzl5weyu6n9I",
        "colab_type": "code",
        "colab": {}
      },
      "source": [
        "# Do not run this cell, its just for reference \n",
        "W = tf.Variable(rng.randn(num_features,num_classes), name=\"weight\",dtype =tf.float32 )\n",
        "b = tf.Variable(rng.randn(num_classes), name=\"bias\",dtype =tf.float32 )"
      ],
      "execution_count": 172,
      "outputs": []
    },
    {
      "cell_type": "code",
      "metadata": {
        "id": "G0j4d3rOzalW",
        "colab_type": "code",
        "colab": {
          "base_uri": "https://localhost:8080/",
          "height": 364
        },
        "outputId": "304d861d-fe5b-4652-9852-55f8a543069d"
      },
      "source": [
        "\n",
        "for step, (batch_x, batch_y) in enumerate(train_data.take(training_steps), 1):\n",
        "    run_optimization(batch_x, batch_y)\n",
        "    \n",
        "    if step % display_step == 0:\n",
        "        pred = logistic_regression(batch_x)\n",
        "        loss = cross_entropy(pred, batch_y)\n",
        "        acc = accuracy(pred, batch_y)\n",
        "        print(\"step: %i, loss: %f, accuracy: %f\" % (step, loss, acc))"
      ],
      "execution_count": 11,
      "outputs": [
        {
          "output_type": "stream",
          "text": [
            "step: 50, loss: 0.262485, accuracy: 0.929688\n",
            "step: 100, loss: 0.113082, accuracy: 0.996094\n",
            "step: 150, loss: 0.070847, accuracy: 1.000000\n",
            "step: 200, loss: 0.052595, accuracy: 1.000000\n",
            "step: 250, loss: 0.029633, accuracy: 1.000000\n",
            "step: 300, loss: 0.027979, accuracy: 1.000000\n",
            "step: 350, loss: 0.017363, accuracy: 1.000000\n",
            "step: 400, loss: 0.014023, accuracy: 1.000000\n",
            "step: 450, loss: 0.012272, accuracy: 1.000000\n",
            "step: 500, loss: 0.010143, accuracy: 1.000000\n",
            "step: 550, loss: 0.010267, accuracy: 1.000000\n",
            "step: 600, loss: 0.007081, accuracy: 1.000000\n",
            "step: 650, loss: 0.006981, accuracy: 1.000000\n",
            "step: 700, loss: 0.007255, accuracy: 1.000000\n",
            "step: 750, loss: 0.006106, accuracy: 1.000000\n",
            "step: 800, loss: 0.004995, accuracy: 1.000000\n",
            "step: 850, loss: 0.004751, accuracy: 1.000000\n",
            "step: 900, loss: 0.003551, accuracy: 1.000000\n",
            "step: 950, loss: 0.003743, accuracy: 1.000000\n",
            "step: 1000, loss: 0.003709, accuracy: 1.000000\n"
          ],
          "name": "stdout"
        }
      ]
    },
    {
      "cell_type": "code",
      "metadata": {
        "id": "rPZs9WyX8eO3",
        "colab_type": "code",
        "colab": {}
      },
      "source": [
        "predict = logistic_regression(x_test)\n"
      ],
      "execution_count": 12,
      "outputs": []
    },
    {
      "cell_type": "code",
      "metadata": {
        "id": "8yhRtx_EAyw0",
        "colab_type": "code",
        "colab": {
          "base_uri": "https://localhost:8080/",
          "height": 269
        },
        "outputId": "ef1bf40d-2b54-46ed-dc66-59ca08dc103f"
      },
      "source": [
        "for i in range(0,50):\n",
        "\n",
        "  #print(np.argmax(predict.numpy()[i]),y_train[i])\n",
        "\n",
        "  if (np.argmax(predict.numpy()[i]) == 0):\n",
        "    plt.plot(x_train[i],'ro', label='Original data')\n",
        "  elif (np.argmax(predict.numpy()[i]) == 1):\n",
        "    plt.plot(x_train[i],'bo', label='Original data')    \n",
        "  elif (np.argmax(predict.numpy()[i]) == 2):\n",
        "    plt.plot(x_train[i],'go', label='Original data')  \n",
        "  else:\n",
        "    plt.plot(x_train[i],'mo', label='Original data')  \n",
        "\n",
        "\n"
      ],
      "execution_count": 13,
      "outputs": [
        {
          "output_type": "display_data",
          "data": {
            "image/png": "[encoded data removed]",
            "text/plain": [
              "<Figure size 432x288 with 1 Axes>"
            ]
          },
          "metadata": {
            "tags": [],
            "needs_background": "light"
          }
        }
      ]
    }
  ]
}