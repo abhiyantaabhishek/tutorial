{
  "nbformat": 4,
  "nbformat_minor": 0,
  "metadata": {
    "kernelspec": {
      "display_name": "Python 2",
      "language": "python",
      "name": "python2"
    },
    "language_info": {
      "codemirror_mode": {
        "name": "ipython",
        "version": 2
      },
      "file_extension": ".py",
      "mimetype": "text/x-python",
      "name": "python",
      "nbconvert_exporter": "python",
      "pygments_lexer": "ipython2",
      "version": "2.7.15"
    },
    "colab": {
      "name": "3. linear_regression.ipynb",
      "provenance": [],
      "include_colab_link": true
    }
  },
  "cells": [
    {
      "cell_type": "markdown",
      "metadata": {
        "id": "view-in-github",
        "colab_type": "text"
      },
      "source": [
        "<a href=\"https://colab.research.google.com/github/abhiyantaabhishek/tutorial/blob/master/3.%20linear_regression.ipynb\" target=\"_parent\"><img src=\"https://colab.research.google.com/assets/colab-badge.svg\" alt=\"Open In Colab\"/></a>"
      ]
    },
    {
      "cell_type": "markdown",
      "metadata": {
        "id": "YXOtTvi_zalA",
        "colab_type": "text"
      },
      "source": [
        "# Simplest Linear Regression Example\n",
        "\n",
        "Simplest linear regression example for understanding the concept \n"
      ]
    },
    {
      "cell_type": "code",
      "metadata": {
        "id": "XkyaiY2DzalB",
        "colab_type": "code",
        "colab": {}
      },
      "source": [
        "from __future__ import absolute_import, division, print_function"
      ],
      "execution_count": null,
      "outputs": []
    },
    {
      "cell_type": "markdown",
      "metadata": {
        "id": "QBd__oQO5uPW",
        "colab_type": "text"
      },
      "source": [
        "Import the library"
      ]
    },
    {
      "cell_type": "code",
      "metadata": {
        "id": "n0NPI4WczalF",
        "colab_type": "code",
        "colab": {}
      },
      "source": [
        "import tensorflow as tf\n",
        "import numpy as np\n",
        "import matplotlib.pyplot as plt\n",
        "rng = np.random"
      ],
      "execution_count": null,
      "outputs": []
    },
    {
      "cell_type": "markdown",
      "metadata": {
        "id": "pBGtyviC5yf2",
        "colab_type": "text"
      },
      "source": [
        "Initilise the paramaters"
      ]
    },
    {
      "cell_type": "code",
      "metadata": {
        "id": "YAoPOx3lzalJ",
        "colab_type": "code",
        "colab": {}
      },
      "source": [
        "learning_rate = 0.001\n",
        "training_steps = 500\n",
        "display_step = 25"
      ],
      "execution_count": null,
      "outputs": []
    },
    {
      "cell_type": "markdown",
      "metadata": {
        "id": "nap65FI_56lO",
        "colab_type": "text"
      },
      "source": [
        "Generate trainning data, Here X contains value from 1 to and so as Y\n",
        "The model must learn to "
      ]
    },
    {
      "cell_type": "code",
      "metadata": {
        "id": "FSizfOtj1ycP",
        "colab_type": "code",
        "colab": {}
      },
      "source": [
        "X = [i for i in range(1,20)]\n",
        "Y=[2*i for i in range(1,20)]\n"
      ],
      "execution_count": null,
      "outputs": []
    },
    {
      "cell_type": "code",
      "metadata": {
        "id": "VL2d06VA305s",
        "colab_type": "code",
        "colab": {
          "base_uri": "https://localhost:8080/",
          "height": 269
        },
        "outputId": "d8dd8a76-2671-41f3-fbbe-e4f044e6a69e"
      },
      "source": [
        "\n",
        "plt.plot(X, Y, 'ro', label='Original data')\n",
        "plt.legend()\n",
        "plt.show()"
      ],
      "execution_count": null,
      "outputs": [
        {
          "output_type": "display_data",
          "data": {
            "image/png": "[encoded data removed]",
            "text/plain": [
              "<Figure size 432x288 with 1 Axes>"
            ]
          },
          "metadata": {
            "tags": [],
            "needs_background": "light"
          }
        }
      ]
    },
    {
      "cell_type": "code",
      "metadata": {
        "id": "b2Y1mCygzalS",
        "colab_type": "code",
        "colab": {}
      },
      "source": [
        "\n",
        "def linear_regression(x):\n",
        "    return W * x + b\n",
        "\n",
        "def mean_square(y_pred, y_true):\n",
        "    return tf.reduce_mean(tf.square(y_pred - y_true))\n",
        "\n",
        "optimizer = tf.optimizers.Adam(learning_rate)"
      ],
      "execution_count": null,
      "outputs": []
    },
    {
      "cell_type": "code",
      "metadata": {
        "id": "-jSJNiFwzalU",
        "colab_type": "code",
        "colab": {}
      },
      "source": [
        "\n",
        "def run_optimization():\n",
        "    with tf.GradientTape() as g:\n",
        "        pred = linear_regression(X)\n",
        "        loss = mean_square(pred, Y)\n",
        "    gradients = g.gradient(loss, [W, b])\n",
        "\n",
        "    optimizer.apply_gradients(zip(gradients, [W, b]))"
      ],
      "execution_count": null,
      "outputs": []
    },
    {
      "cell_type": "code",
      "metadata": {
        "id": "Mzl5weyu6n9I",
        "colab_type": "code",
        "colab": {}
      },
      "source": [
        "W = tf.Variable(rng.randn(), name=\"weight\")\n",
        "b = tf.Variable(rng.randn(), name=\"bias\")"
      ],
      "execution_count": null,
      "outputs": []
    },
    {
      "cell_type": "code",
      "metadata": {
        "id": "G0j4d3rOzalW",
        "colab_type": "code",
        "colab": {
          "base_uri": "https://localhost:8080/",
          "height": 364
        },
        "outputId": "4d65a2e5-29d2-406a-afd7-c857a93da0f9"
      },
      "source": [
        "\n",
        "for step in range(1, training_steps + 1):\n",
        "    run_optimization()\n",
        "    \n",
        "    if step % display_step == 0:\n",
        "        pred = linear_regression(X)\n",
        "        loss = mean_square(pred, Y)\n",
        "        print(\"step: %i, loss: %f, W: %f, b: %f\" % (step, loss, W.numpy(), b.numpy()))"
      ],
      "execution_count": null,
      "outputs": [
        {
          "output_type": "stream",
          "text": [
            "step: 25, loss: 2.244264, W: 1.900201, b: -0.396810\n",
            "step: 50, loss: 0.335913, W: 2.060925, b: -0.135372\n",
            "step: 75, loss: 0.125133, W: 2.037618, b: -0.088640\n",
            "step: 100, loss: 0.011393, W: 2.014032, b: -0.066253\n",
            "step: 125, loss: 0.000676, W: 2.004740, b: -0.045865\n",
            "step: 150, loss: 0.000207, W: 2.002075, b: -0.029553\n",
            "step: 175, loss: 0.000080, W: 2.001268, b: -0.018330\n",
            "step: 200, loss: 0.000029, W: 2.000842, b: -0.011196\n",
            "step: 225, loss: 0.000011, W: 2.000535, b: -0.006793\n",
            "step: 250, loss: 0.000004, W: 2.000325, b: -0.004096\n",
            "step: 275, loss: 0.000001, W: 2.000193, b: -0.002450\n",
            "step: 300, loss: 0.000000, W: 2.000114, b: -0.001450\n",
            "step: 325, loss: 0.000000, W: 2.000067, b: -0.000850\n",
            "step: 350, loss: 0.000000, W: 2.000039, b: -0.000494\n",
            "step: 375, loss: 0.000000, W: 2.000023, b: -0.000284\n",
            "step: 400, loss: 0.000000, W: 2.000013, b: -0.000163\n",
            "step: 425, loss: 0.000000, W: 2.000007, b: -0.000092\n",
            "step: 450, loss: 0.000000, W: 2.000004, b: -0.000051\n",
            "step: 475, loss: 0.000000, W: 2.000002, b: -0.000029\n",
            "step: 500, loss: 0.000000, W: 2.000001, b: -0.000017\n"
          ],
          "name": "stdout"
        }
      ]
    },
    {
      "cell_type": "code",
      "metadata": {
        "id": "tgf1-I4E9bEm",
        "colab_type": "code",
        "colab": {
          "base_uri": "https://localhost:8080/",
          "height": 52
        },
        "outputId": "e724da64-4e37-4764-86df-8eec71a0bdef"
      },
      "source": [
        "print(W.numpy())\n",
        "print(b.numpy())"
      ],
      "execution_count": null,
      "outputs": [
        {
          "output_type": "stream",
          "text": [
            "2.0000012\n",
            "-1.6678565e-05\n"
          ],
          "name": "stdout"
        }
      ]
    },
    {
      "cell_type": "code",
      "metadata": {
        "id": "rPZs9WyX8eO3",
        "colab_type": "code",
        "colab": {
          "base_uri": "https://localhost:8080/",
          "height": 35
        },
        "outputId": "654b6dd2-baa2-4046-8114-85082bad28b4"
      },
      "source": [
        "predict = linear_regression([90])\n",
        "print(np.round(predict.numpy()))"
      ],
      "execution_count": null,
      "outputs": [
        {
          "output_type": "stream",
          "text": [
            "[180.]\n"
          ],
          "name": "stdout"
        }
      ]
    },
    {
      "cell_type": "code",
      "metadata": {
        "id": "oF0VV3dz9TGq",
        "colab_type": "code",
        "colab": {
          "base_uri": "https://localhost:8080/",
          "height": 35
        },
        "outputId": "8082b952-e2fd-4a34-faa2-746b932eea75"
      },
      "source": [
        ""
      ],
      "execution_count": null,
      "outputs": [
        {
          "output_type": "stream",
          "text": [
            "2.0000012\n"
          ],
          "name": "stdout"
        }
      ]
    },
    {
      "cell_type": "code",
      "metadata": {
        "id": "be8T0cFjzalg",
        "colab_type": "code",
        "colab": {
          "base_uri": "https://localhost:8080/",
          "height": 269
        },
        "outputId": "5bb520cd-6a34-4cc9-c0b2-8b4962ae5c81"
      },
      "source": [
        "# Graphic display\n",
        "plt.plot(X, Y, 'ro', label='Original data')\n",
        "plt.plot(X, np.array(W * X + b), label='Fitted line')\n",
        "plt.legend()\n",
        "plt.show()"
      ],
      "execution_count": null,
      "outputs": [
        {
          "output_type": "display_data",
          "data": {
            "image/png": "[encoded data removed]",
            "text/plain": [
              "<Figure size 432x288 with 1 Axes>"
            ]
          },
          "metadata": {
            "tags": [],
            "needs_background": "light"
          }
        }
      ]
    },
    {
      "cell_type": "markdown",
      "metadata": {
        "id": "TLnOgAId3XPF",
        "colab_type": "text"
      },
      "source": [
        "Try adding noise"
      ]
    },
    {
      "cell_type": "code",
      "metadata": {
        "id": "ZTrzU7zO3Z9T",
        "colab_type": "code",
        "colab": {}
      },
      "source": [
        "X = [i+rng.randn() for i in range(1,20)]\n",
        "Y=[i for i in range(1,20)]\n"
      ],
      "execution_count": null,
      "outputs": []
    },
    {
      "cell_type": "code",
      "metadata": {
        "id": "WnLC0wK53pBr",
        "colab_type": "code",
        "colab": {
          "base_uri": "https://localhost:8080/",
          "height": 269
        },
        "outputId": "e8e9f4ad-0eec-4f87-c839-7b66b4043e41"
      },
      "source": [
        "# Graphic display\n",
        "plt.plot(X, Y, 'ro', label='Original data')\n",
        "plt.legend()\n",
        "plt.show()"
      ],
      "execution_count": null,
      "outputs": [
        {
          "output_type": "display_data",
          "data": {
            "image/png": "[encoded data removed]",
            "text/plain": [
              "<Figure size 432x288 with 1 Axes>"
            ]
          },
          "metadata": {
            "tags": [],
            "needs_background": "light"
          }
        }
      ]
    },
    {
      "cell_type": "code",
      "metadata": {
        "id": "KBA0JgPL7nR-",
        "colab_type": "code",
        "colab": {}
      },
      "source": [
        "learning_rate = 0.001\n",
        "training_steps = 500\n",
        "display_step = 25"
      ],
      "execution_count": null,
      "outputs": []
    },
    {
      "cell_type": "code",
      "metadata": {
        "id": "MbSjvuJf4Ow3",
        "colab_type": "code",
        "colab": {}
      },
      "source": [
        "# Randomise the weight and bais\n",
        "W = tf.Variable(rng.randn(), name=\"weight\")\n",
        "b = tf.Variable(rng.randn(), name=\"bias\")"
      ],
      "execution_count": null,
      "outputs": []
    },
    {
      "cell_type": "code",
      "metadata": {
        "id": "uYH-orxD4f42",
        "colab_type": "code",
        "colab": {
          "base_uri": "https://localhost:8080/",
          "height": 364
        },
        "outputId": "6ef7ef28-38f8-4183-8619-3fd9702bed81"
      },
      "source": [
        "for step in range(1, training_steps + 1):\n",
        "    run_optimization()\n",
        "    \n",
        "    if step % display_step == 0:\n",
        "        pred = linear_regression(X)\n",
        "        loss = mean_square(pred, Y)\n",
        "        print(\"step: %i, loss: %f, W: %f, b: %f\" % (step, loss, W.numpy(), b.numpy()))"
      ],
      "execution_count": null,
      "outputs": [
        {
          "output_type": "stream",
          "text": [
            "step: 25, loss: 1.229629, W: 0.951268, b: 1.386810\n",
            "step: 50, loss: 1.003432, W: 0.954647, b: 0.978414\n",
            "step: 75, loss: 0.988221, W: 0.949612, b: 0.937971\n",
            "step: 100, loss: 0.986721, W: 0.944254, b: 0.976543\n",
            "step: 125, loss: 0.986545, W: 0.944681, b: 0.961467\n",
            "step: 150, loss: 0.986526, W: 0.944185, b: 0.964376\n",
            "step: 175, loss: 0.986525, W: 0.944131, b: 0.963976\n",
            "step: 200, loss: 0.986525, W: 0.944118, b: 0.963875\n",
            "step: 225, loss: 0.986525, W: 0.944111, b: 0.963932\n",
            "step: 250, loss: 0.986525, W: 0.944114, b: 0.963912\n",
            "step: 275, loss: 0.986525, W: 0.944114, b: 0.963918\n",
            "step: 300, loss: 0.986525, W: 0.944114, b: 0.963917\n",
            "step: 325, loss: 0.986525, W: 0.944114, b: 0.963917\n",
            "step: 350, loss: 0.986525, W: 0.944114, b: 0.963917\n",
            "step: 375, loss: 0.986525, W: 0.944114, b: 0.963917\n",
            "step: 400, loss: 0.986525, W: 0.944114, b: 0.963917\n",
            "step: 425, loss: 0.986525, W: 0.944114, b: 0.963917\n",
            "step: 450, loss: 0.986525, W: 0.944114, b: 0.963917\n",
            "step: 475, loss: 0.986525, W: 0.944114, b: 0.963917\n",
            "step: 500, loss: 0.986525, W: 0.944114, b: 0.963917\n"
          ],
          "name": "stdout"
        }
      ]
    },
    {
      "cell_type": "code",
      "metadata": {
        "id": "hwufgS9C-Be0",
        "colab_type": "code",
        "colab": {
          "base_uri": "https://localhost:8080/",
          "height": 52
        },
        "outputId": "5db5a1dc-f504-450f-8350-d5f00fda5ea2"
      },
      "source": [
        "print(W.numpy())\n",
        "print(b.numpy())"
      ],
      "execution_count": null,
      "outputs": [
        {
          "output_type": "stream",
          "text": [
            "0.94411397\n",
            "0.9639169\n"
          ],
          "name": "stdout"
        }
      ]
    },
    {
      "cell_type": "code",
      "metadata": {
        "id": "yYwyu_fY9ocg",
        "colab_type": "code",
        "colab": {
          "base_uri": "https://localhost:8080/",
          "height": 35
        },
        "outputId": "03d06c79-4d2a-4111-cd78-fd97cf8a3ec7"
      },
      "source": [
        "predict = linear_regression([90])\n",
        "print(np.round(predict.numpy()))"
      ],
      "execution_count": null,
      "outputs": [
        {
          "output_type": "stream",
          "text": [
            "[86.]\n"
          ],
          "name": "stdout"
        }
      ]
    },
    {
      "cell_type": "code",
      "metadata": {
        "id": "ONtctXLk4mk2",
        "colab_type": "code",
        "colab": {
          "base_uri": "https://localhost:8080/",
          "height": 269
        },
        "outputId": "1d48a85a-3f4f-435a-a35c-0e1166ee8d2c"
      },
      "source": [
        "\n",
        "plt.plot(X, Y, 'ro', label='Original data')\n",
        "plt.plot(X, np.array(W * X + b), label='Fitted line')\n",
        "plt.legend()\n",
        "plt.show()"
      ],
      "execution_count": null,
      "outputs": [
        {
          "output_type": "display_data",
          "data": {
            "image/png": "[encoded data removed]",
            "text/plain": [
              "<Figure size 432x288 with 1 Axes>"
            ]
          },
          "metadata": {
            "tags": [],
            "needs_background": "light"
          }
        }
      ]
    }
  ]
}