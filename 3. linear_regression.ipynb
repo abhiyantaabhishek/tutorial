{
  "nbformat": 4,
  "nbformat_minor": 0,
  "metadata": {
    "kernelspec": {
      "display_name": "Python 2",
      "language": "python",
      "name": "python2"
    },
    "language_info": {
      "codemirror_mode": {
        "name": "ipython",
        "version": 2
      },
      "file_extension": ".py",
      "mimetype": "text/x-python",
      "name": "python",
      "nbconvert_exporter": "python",
      "pygments_lexer": "ipython2",
      "version": "2.7.15"
    },
    "colab": {
      "name": "3. linear_regression.ipynb",
      "provenance": [],
      "include_colab_link": true
    }
  },
  "cells": [
    {
      "cell_type": "markdown",
      "metadata": {
        "id": "view-in-github",
        "colab_type": "text"
      },
      "source": [
        "<a href=\"https://colab.research.google.com/github/abhiyantaabhishek/tutorial/blob/master/3.%20linear_regression.ipynb\" target=\"_parent\"><img src=\"https://colab.research.google.com/assets/colab-badge.svg\" alt=\"Open In Colab\"/></a>"
      ]
    },
    {
      "cell_type": "markdown",
      "metadata": {
        "id": "YXOtTvi_zalA",
        "colab_type": "text"
      },
      "source": [
        "# Simplest Linear Regression Example\n",
        "\n",
        "Simplest linear regression example for understanding the concept \n"
      ]
    },
    {
      "cell_type": "code",
      "metadata": {
        "id": "XkyaiY2DzalB",
        "colab_type": "code",
        "colab": {}
      },
      "source": [
        "from __future__ import absolute_import, division, print_function"
      ],
      "execution_count": 201,
      "outputs": []
    },
    {
      "cell_type": "markdown",
      "metadata": {
        "id": "QBd__oQO5uPW",
        "colab_type": "text"
      },
      "source": [
        "Import the library"
      ]
    },
    {
      "cell_type": "code",
      "metadata": {
        "id": "n0NPI4WczalF",
        "colab_type": "code",
        "colab": {}
      },
      "source": [
        "import tensorflow as tf\n",
        "import numpy as np\n",
        "import matplotlib.pyplot as plt\n",
        "rng = np.random"
      ],
      "execution_count": 202,
      "outputs": []
    },
    {
      "cell_type": "markdown",
      "metadata": {
        "id": "pBGtyviC5yf2",
        "colab_type": "text"
      },
      "source": [
        "Initilise the paramaters"
      ]
    },
    {
      "cell_type": "code",
      "metadata": {
        "id": "YAoPOx3lzalJ",
        "colab_type": "code",
        "colab": {}
      },
      "source": [
        "learning_rate = 0.1\n",
        "training_steps = 1000\n",
        "display_step = 25"
      ],
      "execution_count": 203,
      "outputs": []
    },
    {
      "cell_type": "markdown",
      "metadata": {
        "id": "nap65FI_56lO",
        "colab_type": "text"
      },
      "source": [
        "Generate trainning data, Here X contains value from 1 to and so as Y\n",
        "The model must learn to "
      ]
    },
    {
      "cell_type": "code",
      "metadata": {
        "id": "FSizfOtj1ycP",
        "colab_type": "code",
        "colab": {}
      },
      "source": [
        "X = [i for i in range(1,20)]\n",
        "Y=[2*i for i in range(1,20)]\n"
      ],
      "execution_count": 204,
      "outputs": []
    },
    {
      "cell_type": "code",
      "metadata": {
        "id": "VL2d06VA305s",
        "colab_type": "code",
        "colab": {
          "base_uri": "https://localhost:8080/",
          "height": 269
        },
        "outputId": "4a8a8f6f-aa21-4fea-9ad5-39269d7309bf"
      },
      "source": [
        "\n",
        "plt.plot(X, Y, 'ro', label='Original data')\n",
        "plt.legend()\n",
        "plt.show()"
      ],
      "execution_count": 205,
      "outputs": [
        {
          "output_type": "display_data",
          "data": {
            "image/png": "[encoded data removed]",
            "text/plain": [
              "<Figure size 432x288 with 1 Axes>"
            ]
          },
          "metadata": {
            "tags": [],
            "needs_background": "light"
          }
        }
      ]
    },
    {
      "cell_type": "code",
      "metadata": {
        "id": "b2Y1mCygzalS",
        "colab_type": "code",
        "colab": {}
      },
      "source": [
        "\n",
        "def linear_regression(x):\n",
        "    return W * x + b\n",
        "\n",
        "def mean_square(y_pred, y_true):\n",
        "    return tf.reduce_mean(tf.square(y_pred - y_true))\n",
        "\n",
        "optimizer = tf.optimizers.Adam(learning_rate)"
      ],
      "execution_count": 206,
      "outputs": []
    },
    {
      "cell_type": "code",
      "metadata": {
        "id": "-jSJNiFwzalU",
        "colab_type": "code",
        "colab": {}
      },
      "source": [
        "\n",
        "def run_optimization():\n",
        "    with tf.GradientTape() as g:\n",
        "        pred = linear_regression(X)\n",
        "        loss = mean_square(pred, Y)\n",
        "    gradients = g.gradient(loss, [W, b])\n",
        "\n",
        "    optimizer.apply_gradients(zip(gradients, [W, b]))"
      ],
      "execution_count": 207,
      "outputs": []
    },
    {
      "cell_type": "code",
      "metadata": {
        "id": "Mzl5weyu6n9I",
        "colab_type": "code",
        "colab": {}
      },
      "source": [
        "W = tf.Variable(rng.randn(), name=\"weight\")\n",
        "b = tf.Variable(rng.randn(), name=\"bias\")"
      ],
      "execution_count": 208,
      "outputs": []
    },
    {
      "cell_type": "code",
      "metadata": {
        "id": "G0j4d3rOzalW",
        "colab_type": "code",
        "colab": {
          "base_uri": "https://localhost:8080/",
          "height": 711
        },
        "outputId": "0ec6522a-3a0c-444d-ed48-28c4918d327e"
      },
      "source": [
        "\n",
        "for step in range(1, training_steps + 1):\n",
        "    run_optimization()\n",
        "    \n",
        "    if step % display_step == 0:\n",
        "        pred = linear_regression(X)\n",
        "        loss = mean_square(pred, Y)\n",
        "        print(\"step: %i, loss: %f, W: %f, b: %f\" % (step, loss, W.numpy(), b.numpy()))"
      ],
      "execution_count": 209,
      "outputs": [
        {
          "output_type": "stream",
          "text": [
            "step: 25, loss: 4.153956, W: 2.043746, b: 1.586535\n",
            "step: 50, loss: 0.425149, W: 1.903588, b: 1.346601\n",
            "step: 75, loss: 0.351720, W: 1.899123, b: 1.224257\n",
            "step: 100, loss: 0.284798, W: 1.911519, b: 1.108264\n",
            "step: 125, loss: 0.225574, W: 1.924011, b: 0.988679\n",
            "step: 150, loss: 0.173418, W: 1.931223, b: 0.865278\n",
            "step: 175, loss: 0.130002, W: 1.941201, b: 0.750107\n",
            "step: 200, loss: 0.095102, W: 1.949598, b: 0.641466\n",
            "step: 225, loss: 0.067930, W: 1.957376, b: 0.542108\n",
            "step: 250, loss: 0.047408, W: 1.964405, b: 0.452892\n",
            "step: 275, loss: 0.032345, W: 1.970599, b: 0.374086\n",
            "step: 300, loss: 0.021583, W: 1.975982, b: 0.305577\n",
            "step: 325, loss: 0.014090, W: 1.980594, b: 0.246898\n",
            "step: 350, loss: 0.009001, W: 1.984490, b: 0.197341\n",
            "step: 375, loss: 0.005628, W: 1.987735, b: 0.156048\n",
            "step: 400, loss: 0.003445, W: 1.990404, b: 0.122088\n",
            "step: 425, loss: 0.002065, W: 1.992572, b: 0.094510\n",
            "step: 450, loss: 0.001211, W: 1.994310, b: 0.072391\n",
            "step: 475, loss: 0.000696, W: 1.995688, b: 0.054864\n",
            "step: 500, loss: 0.000391, W: 1.996766, b: 0.041143\n",
            "step: 525, loss: 0.000215, W: 1.997601, b: 0.030527\n",
            "step: 550, loss: 0.000116, W: 1.998239, b: 0.022409\n",
            "step: 575, loss: 0.000061, W: 1.998721, b: 0.016274\n",
            "step: 600, loss: 0.000032, W: 1.999081, b: 0.011692\n",
            "step: 625, loss: 0.000016, W: 1.999347, b: 0.008309\n",
            "step: 650, loss: 0.000008, W: 1.999541, b: 0.005840\n",
            "step: 675, loss: 0.000004, W: 1.999681, b: 0.004060\n",
            "step: 700, loss: 0.000002, W: 1.999781, b: 0.002791\n",
            "step: 725, loss: 0.000001, W: 1.999851, b: 0.001897\n",
            "step: 750, loss: 0.000000, W: 1.999900, b: 0.001274\n",
            "step: 775, loss: 0.000000, W: 1.999933, b: 0.000846\n",
            "step: 800, loss: 0.000000, W: 1.999956, b: 0.000555\n",
            "step: 825, loss: 0.000000, W: 1.999972, b: 0.000360\n",
            "step: 850, loss: 0.000000, W: 1.999982, b: 0.000231\n",
            "step: 875, loss: 0.000000, W: 1.999988, b: 0.000147\n",
            "step: 900, loss: 0.000000, W: 1.999993, b: 0.000092\n",
            "step: 925, loss: 0.000000, W: 1.999996, b: 0.000057\n",
            "step: 950, loss: 0.000000, W: 1.999997, b: 0.000035\n",
            "step: 975, loss: 0.000000, W: 1.999998, b: 0.000021\n",
            "step: 1000, loss: 0.000000, W: 1.999999, b: 0.000013\n"
          ],
          "name": "stdout"
        }
      ]
    },
    {
      "cell_type": "code",
      "metadata": {
        "id": "tgf1-I4E9bEm",
        "colab_type": "code",
        "colab": {
          "base_uri": "https://localhost:8080/",
          "height": 52
        },
        "outputId": "c852d621-65f9-48bc-fd65-8b9c04fa7ec9"
      },
      "source": [
        "print(W.numpy())\n",
        "print(b.numpy())"
      ],
      "execution_count": 210,
      "outputs": [
        {
          "output_type": "stream",
          "text": [
            "1.9999989\n",
            "1.2893894e-05\n"
          ],
          "name": "stdout"
        }
      ]
    },
    {
      "cell_type": "code",
      "metadata": {
        "id": "rPZs9WyX8eO3",
        "colab_type": "code",
        "colab": {
          "base_uri": "https://localhost:8080/",
          "height": 35
        },
        "outputId": "b0ca6935-5b86-413c-81cc-ea435635f109"
      },
      "source": [
        "predict = linear_regression([90])\n",
        "print(np.round(predict.numpy()))"
      ],
      "execution_count": 211,
      "outputs": [
        {
          "output_type": "stream",
          "text": [
            "[180.]\n"
          ],
          "name": "stdout"
        }
      ]
    },
    {
      "cell_type": "code",
      "metadata": {
        "id": "oF0VV3dz9TGq",
        "colab_type": "code",
        "colab": {}
      },
      "source": [
        ""
      ],
      "execution_count": 211,
      "outputs": []
    },
    {
      "cell_type": "code",
      "metadata": {
        "id": "be8T0cFjzalg",
        "colab_type": "code",
        "colab": {
          "base_uri": "https://localhost:8080/",
          "height": 269
        },
        "outputId": "c243ee28-34a8-488b-ea86-f76e7d03020f"
      },
      "source": [
        "# Graphic display\n",
        "plt.plot(X, Y, 'ro', label='Original data')\n",
        "plt.plot(X, np.array(W * X + b), label='Fitted line')\n",
        "plt.legend()\n",
        "plt.show()"
      ],
      "execution_count": 212,
      "outputs": [
        {
          "output_type": "display_data",
          "data": {
            "image/png": "[encoded data removed]",
            "text/plain": [
              "<Figure size 432x288 with 1 Axes>"
            ]
          },
          "metadata": {
            "tags": [],
            "needs_background": "light"
          }
        }
      ]
    },
    {
      "cell_type": "markdown",
      "metadata": {
        "id": "TLnOgAId3XPF",
        "colab_type": "text"
      },
      "source": [
        "Try adding noise"
      ]
    },
    {
      "cell_type": "code",
      "metadata": {
        "id": "ZTrzU7zO3Z9T",
        "colab_type": "code",
        "colab": {}
      },
      "source": [
        "X = [i+rng.randn() for i in range(1,20)]\n",
        "Y=[i for i in range(1,20)]\n"
      ],
      "execution_count": 213,
      "outputs": []
    },
    {
      "cell_type": "code",
      "metadata": {
        "id": "WnLC0wK53pBr",
        "colab_type": "code",
        "colab": {
          "base_uri": "https://localhost:8080/",
          "height": 269
        },
        "outputId": "593a2372-71e0-4c69-827a-ae7ee8895ff1"
      },
      "source": [
        "# Graphic display\n",
        "plt.plot(X, Y, 'ro', label='Original data')\n",
        "plt.legend()\n",
        "plt.show()"
      ],
      "execution_count": 214,
      "outputs": [
        {
          "output_type": "display_data",
          "data": {
            "image/png": "[encoded data removed]",
            "text/plain": [
              "<Figure size 432x288 with 1 Axes>"
            ]
          },
          "metadata": {
            "tags": [],
            "needs_background": "light"
          }
        }
      ]
    },
    {
      "cell_type": "code",
      "metadata": {
        "id": "KBA0JgPL7nR-",
        "colab_type": "code",
        "colab": {}
      },
      "source": [
        "learning_rate = 0.1\n",
        "training_steps = 1000\n",
        "display_step = 25"
      ],
      "execution_count": 215,
      "outputs": []
    },
    {
      "cell_type": "code",
      "metadata": {
        "id": "MbSjvuJf4Ow3",
        "colab_type": "code",
        "colab": {}
      },
      "source": [
        "# Randomise the weight and bais\n",
        "W = tf.Variable(rng.randn(), name=\"weight\")\n",
        "b = tf.Variable(rng.randn(), name=\"bias\")"
      ],
      "execution_count": 216,
      "outputs": []
    },
    {
      "cell_type": "code",
      "metadata": {
        "id": "uYH-orxD4f42",
        "colab_type": "code",
        "colab": {
          "base_uri": "https://localhost:8080/",
          "height": 711
        },
        "outputId": "30ae1667-8fe5-45d2-bd2f-2cef07c40477"
      },
      "source": [
        "for step in range(1, training_steps + 1):\n",
        "    run_optimization()\n",
        "    \n",
        "    if step % display_step == 0:\n",
        "        pred = linear_regression(X)\n",
        "        loss = mean_square(pred, Y)\n",
        "        print(\"step: %i, loss: %f, W: %f, b: %f\" % (step, loss, W.numpy(), b.numpy()))"
      ],
      "execution_count": 217,
      "outputs": [
        {
          "output_type": "stream",
          "text": [
            "step: 25, loss: 6.811418, W: 0.819420, b: -0.272432\n",
            "step: 50, loss: 1.339512, W: 1.080148, b: 0.073766\n",
            "step: 75, loss: 0.797249, W: 0.997666, b: 0.033858\n",
            "step: 100, loss: 0.760998, W: 1.016180, b: 0.070706\n",
            "step: 125, loss: 0.759087, W: 1.011143, b: 0.072950\n",
            "step: 150, loss: 0.758995, W: 1.011922, b: 0.076456\n",
            "step: 175, loss: 0.758990, W: 1.011627, b: 0.077128\n",
            "step: 200, loss: 0.758990, W: 1.011660, b: 0.077484\n",
            "step: 225, loss: 0.758989, W: 1.011636, b: 0.077561\n",
            "step: 250, loss: 0.758990, W: 1.011639, b: 0.077594\n",
            "step: 275, loss: 0.758990, W: 1.011637, b: 0.077599\n",
            "step: 300, loss: 0.758990, W: 1.011637, b: 0.077602\n",
            "step: 325, loss: 0.758990, W: 1.011637, b: 0.077602\n",
            "step: 350, loss: 0.758989, W: 1.011637, b: 0.077602\n",
            "step: 375, loss: 0.758989, W: 1.011637, b: 0.077602\n",
            "step: 400, loss: 0.758989, W: 1.011637, b: 0.077602\n",
            "step: 425, loss: 0.758989, W: 1.011637, b: 0.077602\n",
            "step: 450, loss: 0.758989, W: 1.011637, b: 0.077602\n",
            "step: 475, loss: 0.758989, W: 1.011637, b: 0.077602\n",
            "step: 500, loss: 0.758989, W: 1.011637, b: 0.077602\n",
            "step: 525, loss: 0.758989, W: 1.011637, b: 0.077602\n",
            "step: 550, loss: 0.758989, W: 1.011637, b: 0.077602\n",
            "step: 575, loss: 0.758989, W: 1.011637, b: 0.077602\n",
            "step: 600, loss: 0.758989, W: 1.011637, b: 0.077602\n",
            "step: 625, loss: 0.758989, W: 1.011637, b: 0.077602\n",
            "step: 650, loss: 0.758989, W: 1.011637, b: 0.077602\n",
            "step: 675, loss: 0.758989, W: 1.011637, b: 0.077602\n",
            "step: 700, loss: 0.758989, W: 1.011637, b: 0.077602\n",
            "step: 725, loss: 0.758989, W: 1.011637, b: 0.077602\n",
            "step: 750, loss: 0.758989, W: 1.011637, b: 0.077602\n",
            "step: 775, loss: 0.758989, W: 1.011637, b: 0.077602\n",
            "step: 800, loss: 0.758989, W: 1.011637, b: 0.077602\n",
            "step: 825, loss: 0.758989, W: 1.011637, b: 0.077602\n",
            "step: 850, loss: 0.758989, W: 1.011637, b: 0.077602\n",
            "step: 875, loss: 0.758989, W: 1.011637, b: 0.077602\n",
            "step: 900, loss: 0.758989, W: 1.011637, b: 0.077602\n",
            "step: 925, loss: 0.758989, W: 1.011637, b: 0.077602\n",
            "step: 950, loss: 0.758989, W: 1.011637, b: 0.077602\n",
            "step: 975, loss: 0.758989, W: 1.011637, b: 0.077602\n",
            "step: 1000, loss: 0.758989, W: 1.011637, b: 0.077602\n"
          ],
          "name": "stdout"
        }
      ]
    },
    {
      "cell_type": "code",
      "metadata": {
        "id": "hwufgS9C-Be0",
        "colab_type": "code",
        "colab": {
          "base_uri": "https://localhost:8080/",
          "height": 52
        },
        "outputId": "5a18f9e5-8627-45d3-c903-b40f2f7e6179"
      },
      "source": [
        "print(W.numpy())\n",
        "print(b.numpy())"
      ],
      "execution_count": 218,
      "outputs": [
        {
          "output_type": "stream",
          "text": [
            "1.0116371\n",
            "0.07760215\n"
          ],
          "name": "stdout"
        }
      ]
    },
    {
      "cell_type": "code",
      "metadata": {
        "id": "yYwyu_fY9ocg",
        "colab_type": "code",
        "colab": {
          "base_uri": "https://localhost:8080/",
          "height": 35
        },
        "outputId": "d1e6cb5f-6cde-4fac-ffe5-66b37f9d2d5e"
      },
      "source": [
        "predict = linear_regression([90])\n",
        "print(np.round(predict.numpy()))"
      ],
      "execution_count": 219,
      "outputs": [
        {
          "output_type": "stream",
          "text": [
            "[91.]\n"
          ],
          "name": "stdout"
        }
      ]
    },
    {
      "cell_type": "code",
      "metadata": {
        "id": "ONtctXLk4mk2",
        "colab_type": "code",
        "colab": {
          "base_uri": "https://localhost:8080/",
          "height": 269
        },
        "outputId": "22af71b3-990b-4f4f-b0bb-4af3434322a0"
      },
      "source": [
        "\n",
        "plt.plot(X, Y, 'ro', label='Original data')\n",
        "plt.plot(X, np.array(W * X + b), label='Fitted line')\n",
        "plt.legend()\n",
        "plt.show()"
      ],
      "execution_count": 220,
      "outputs": [
        {
          "output_type": "display_data",
          "data": {
            "image/png": "[encoded data removed]",
            "text/plain": [
              "<Figure size 432x288 with 1 Axes>"
            ]
          },
          "metadata": {
            "tags": [],
            "needs_background": "light"
          }
        }
      ]
    }
  ]
}